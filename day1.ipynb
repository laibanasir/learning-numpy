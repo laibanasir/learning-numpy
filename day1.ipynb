{
  "nbformat": 4,
  "nbformat_minor": 0,
  "metadata": {
    "colab": {
      "name": "day1.ipynb",
      "provenance": [],
      "collapsed_sections": []
    },
    "kernelspec": {
      "name": "python3",
      "display_name": "Python 3"
    }
  },
  "cells": [
    {
      "cell_type": "code",
      "metadata": {
        "id": "TLbP37ft_tHn",
        "colab_type": "code",
        "colab": {}
      },
      "source": [
        "import numpy as np"
      ],
      "execution_count": 0,
      "outputs": []
    },
    {
      "cell_type": "markdown",
      "metadata": {
        "id": "kKZ3rCMn_7W8",
        "colab_type": "text"
      },
      "source": [
        "##performance difference b/w lists and arrays"
      ]
    },
    {
      "cell_type": "code",
      "metadata": {
        "id": "DyaNkzFK_zMR",
        "colab_type": "code",
        "colab": {}
      },
      "source": [
        "a_array = np.arange(1000000)\n",
        "a_list = list(range(1000000))"
      ],
      "execution_count": 0,
      "outputs": []
    },
    {
      "cell_type": "code",
      "metadata": {
        "id": "4PhZP-bXAqLi",
        "colab_type": "code",
        "colab": {
          "base_uri": "https://localhost:8080/",
          "height": 52
        },
        "outputId": "b6b2d478-882d-4abd-ca76-ada0894cfcdb"
      },
      "source": [
        "%time for _ in range(10) : a_array2 = a_array * 2"
      ],
      "execution_count": 5,
      "outputs": [
        {
          "output_type": "stream",
          "text": [
            "CPU times: user 19.3 ms, sys: 10.1 ms, total: 29.4 ms\n",
            "Wall time: 31.6 ms\n"
          ],
          "name": "stdout"
        }
      ]
    },
    {
      "cell_type": "code",
      "metadata": {
        "id": "dcRBiVp1A17J",
        "colab_type": "code",
        "colab": {
          "base_uri": "https://localhost:8080/",
          "height": 52
        },
        "outputId": "32c51c04-ca8f-4553-b60c-845dfb9ef89e"
      },
      "source": [
        "%time for _ in range(10) : a_list2 = [x * 2 for x in a_list]\n",
        "  "
      ],
      "execution_count": 7,
      "outputs": [
        {
          "output_type": "stream",
          "text": [
            "CPU times: user 606 ms, sys: 172 ms, total: 778 ms\n",
            "Wall time: 779 ms\n"
          ],
          "name": "stdout"
        }
      ]
    },
    {
      "cell_type": "markdown",
      "metadata": {
        "id": "-zGnaS5uBdei",
        "colab_type": "text"
      },
      "source": [
        "##ndarray : N - Dimensional array"
      ]
    },
    {
      "cell_type": "code",
      "metadata": {
        "id": "_liJOHNnBV7b",
        "colab_type": "code",
        "colab": {
          "base_uri": "https://localhost:8080/",
          "height": 70
        },
        "outputId": "7436a4ab-2f1c-4cde-eae7-8945b3b08e19"
      },
      "source": [
        "#random data generation\n",
        "data = np.random.randn(3,2) #(rows, columns)\n",
        "data"
      ],
      "execution_count": 9,
      "outputs": [
        {
          "output_type": "execute_result",
          "data": {
            "text/plain": [
              "array([[-0.00607308,  0.95407802],\n",
              "       [ 0.43034338, -0.09799268],\n",
              "       [ 0.10284029,  0.74283819]])"
            ]
          },
          "metadata": {
            "tags": []
          },
          "execution_count": 9
        }
      ]
    },
    {
      "cell_type": "code",
      "metadata": {
        "id": "WliaiPOCCC30",
        "colab_type": "code",
        "colab": {
          "base_uri": "https://localhost:8080/",
          "height": 70
        },
        "outputId": "a2433c03-eb0f-4c63-cfaf-10420127128c"
      },
      "source": [
        "#multiplication\n",
        "data * 100 #multiplies each member of array with 100"
      ],
      "execution_count": 12,
      "outputs": [
        {
          "output_type": "execute_result",
          "data": {
            "text/plain": [
              "array([[-0.6073084 , 95.40780163],\n",
              "       [43.0343375 , -9.79926809],\n",
              "       [10.28402878, 74.28381903]])"
            ]
          },
          "metadata": {
            "tags": []
          },
          "execution_count": 12
        }
      ]
    },
    {
      "cell_type": "code",
      "metadata": {
        "id": "3sj31avzCpe6",
        "colab_type": "code",
        "colab": {
          "base_uri": "https://localhost:8080/",
          "height": 70
        },
        "outputId": "b9bbae86-b6b3-4172-bd74-fcfd4228d51d"
      },
      "source": [
        "#addition\n",
        "data + data #position wise"
      ],
      "execution_count": 13,
      "outputs": [
        {
          "output_type": "execute_result",
          "data": {
            "text/plain": [
              "array([[-0.01214617,  1.90815603],\n",
              "       [ 0.86068675, -0.19598536],\n",
              "       [ 0.20568058,  1.48567638]])"
            ]
          },
          "metadata": {
            "tags": []
          },
          "execution_count": 13
        }
      ]
    },
    {
      "cell_type": "code",
      "metadata": {
        "id": "nBVLwkedCyhW",
        "colab_type": "code",
        "colab": {
          "base_uri": "https://localhost:8080/",
          "height": 34
        },
        "outputId": "8ba72db3-d414-4491-bced-edaa31d05227"
      },
      "source": [
        "#get shape\n",
        "data.shape"
      ],
      "execution_count": 15,
      "outputs": [
        {
          "output_type": "execute_result",
          "data": {
            "text/plain": [
              "(3, 2)"
            ]
          },
          "metadata": {
            "tags": []
          },
          "execution_count": 15
        }
      ]
    },
    {
      "cell_type": "code",
      "metadata": {
        "id": "LzGLJXNODCdc",
        "colab_type": "code",
        "colab": {
          "base_uri": "https://localhost:8080/",
          "height": 34
        },
        "outputId": "6dc70ad5-11c2-4105-d4a2-0458c6dded09"
      },
      "source": [
        "#get dtype\n",
        "data.dtype"
      ],
      "execution_count": 16,
      "outputs": [
        {
          "output_type": "execute_result",
          "data": {
            "text/plain": [
              "dtype('float64')"
            ]
          },
          "metadata": {
            "tags": []
          },
          "execution_count": 16
        }
      ]
    },
    {
      "cell_type": "markdown",
      "metadata": {
        "id": "3vuWp5L7DKsG",
        "colab_type": "text"
      },
      "source": [
        "##creating nd-arrays"
      ]
    },
    {
      "cell_type": "code",
      "metadata": {
        "id": "9ytFv5xjDNlT",
        "colab_type": "code",
        "colab": {
          "base_uri": "https://localhost:8080/",
          "height": 34
        },
        "outputId": "8ca02e82-9773-4a87-eeac-994628abf39b"
      },
      "source": [
        "data1 = [1,2,3,4]\n",
        "b_array = np.array(data1, dtype = np.int8)\n",
        "b_array"
      ],
      "execution_count": 17,
      "outputs": [
        {
          "output_type": "execute_result",
          "data": {
            "text/plain": [
              "array([1, 2, 3, 4], dtype=int8)"
            ]
          },
          "metadata": {
            "tags": []
          },
          "execution_count": 17
        }
      ]
    },
    {
      "cell_type": "code",
      "metadata": {
        "id": "kUdSDkLqDmm7",
        "colab_type": "code",
        "colab": {
          "base_uri": "https://localhost:8080/",
          "height": 70
        },
        "outputId": "c68299e0-82d5-4bf4-e6aa-9356eba7eb00"
      },
      "source": [
        "data1 = [[1,2,3],[6,7,8],[9,10,11]]\n",
        "c_array = np.array(data1, dtype = np.int8)\n",
        "c_array"
      ],
      "execution_count": 18,
      "outputs": [
        {
          "output_type": "execute_result",
          "data": {
            "text/plain": [
              "array([[ 1,  2,  3],\n",
              "       [ 6,  7,  8],\n",
              "       [ 9, 10, 11]], dtype=int8)"
            ]
          },
          "metadata": {
            "tags": []
          },
          "execution_count": 18
        }
      ]
    },
    {
      "cell_type": "code",
      "metadata": {
        "id": "F7ULlN5wD0se",
        "colab_type": "code",
        "colab": {
          "base_uri": "https://localhost:8080/",
          "height": 34
        },
        "outputId": "d0e9c791-5504-48cc-9570-15b6caf6c598"
      },
      "source": [
        "#get dimensions\n",
        "c_array.ndim"
      ],
      "execution_count": 19,
      "outputs": [
        {
          "output_type": "execute_result",
          "data": {
            "text/plain": [
              "2"
            ]
          },
          "metadata": {
            "tags": []
          },
          "execution_count": 19
        }
      ]
    },
    {
      "cell_type": "code",
      "metadata": {
        "id": "vsW9afL3DF3x",
        "colab_type": "code",
        "colab": {
          "base_uri": "https://localhost:8080/",
          "height": 34
        },
        "outputId": "17411bfb-b8b3-4db4-de7f-6b454ab49d92"
      },
      "source": [
        "#np.zeros\n",
        "d_array = np.zeros(10)\n",
        "d_array"
      ],
      "execution_count": 21,
      "outputs": [
        {
          "output_type": "execute_result",
          "data": {
            "text/plain": [
              "array([0., 0., 0., 0., 0., 0., 0., 0., 0., 0.])"
            ]
          },
          "metadata": {
            "tags": []
          },
          "execution_count": 21
        }
      ]
    },
    {
      "cell_type": "code",
      "metadata": {
        "id": "xgxB4DtzEQdd",
        "colab_type": "code",
        "colab": {
          "base_uri": "https://localhost:8080/",
          "height": 158
        },
        "outputId": "91865d66-4f7a-4168-92c7-03c4524407b9"
      },
      "source": [
        "#np.empty returns uninitialized garbage values\n",
        "c_array = np.empty((3, 2, 1)) #(rows,cols,# of members)\n",
        "c_array"
      ],
      "execution_count": 32,
      "outputs": [
        {
          "output_type": "execute_result",
          "data": {
            "text/plain": [
              "array([[[0.01214617],\n",
              "        [1.90815603]],\n",
              "\n",
              "       [[0.86068675],\n",
              "        [0.19598536]],\n",
              "\n",
              "       [[0.20568058],\n",
              "        [1.48567638]]])"
            ]
          },
          "metadata": {
            "tags": []
          },
          "execution_count": 32
        }
      ]
    },
    {
      "cell_type": "code",
      "metadata": {
        "id": "50F7vyGzPndg",
        "colab_type": "code",
        "colab": {
          "base_uri": "https://localhost:8080/",
          "height": 34
        },
        "outputId": "0c83541f-34d4-4785-87e7-97221d8998cf"
      },
      "source": [
        "#np.arange \n",
        "c_array = np.arange(1,15,2) #(start,stop,step)\n",
        "c_array"
      ],
      "execution_count": 33,
      "outputs": [
        {
          "output_type": "execute_result",
          "data": {
            "text/plain": [
              "array([ 1,  3,  5,  7,  9, 11, 13])"
            ]
          },
          "metadata": {
            "tags": []
          },
          "execution_count": 33
        }
      ]
    },
    {
      "cell_type": "code",
      "metadata": {
        "id": "7Afx4YDBP8tK",
        "colab_type": "code",
        "colab": {
          "base_uri": "https://localhost:8080/",
          "height": 52
        },
        "outputId": "a1230de7-b049-4cf0-c036-61d6e043d5b0"
      },
      "source": [
        "#np.ones\n",
        "c_array = np.ones((2,3)) #(shape(rows,cols),dtype,order)\n",
        "c_array"
      ],
      "execution_count": 37,
      "outputs": [
        {
          "output_type": "execute_result",
          "data": {
            "text/plain": [
              "array([[1., 1., 1.],\n",
              "       [1., 1., 1.]])"
            ]
          },
          "metadata": {
            "tags": []
          },
          "execution_count": 37
        }
      ]
    },
    {
      "cell_type": "code",
      "metadata": {
        "id": "fx-zEKqXQc5G",
        "colab_type": "code",
        "colab": {
          "base_uri": "https://localhost:8080/",
          "height": 52
        },
        "outputId": "db1d1288-9c67-48fe-c738-da81cf54ba16"
      },
      "source": [
        "#np.ones_like copies shape and type\n",
        "d_array = np.ones_like(c_array)\n",
        "d_array"
      ],
      "execution_count": 40,
      "outputs": [
        {
          "output_type": "execute_result",
          "data": {
            "text/plain": [
              "array([[1., 1., 1.],\n",
              "       [1., 1., 1.]])"
            ]
          },
          "metadata": {
            "tags": []
          },
          "execution_count": 40
        }
      ]
    },
    {
      "cell_type": "code",
      "metadata": {
        "id": "X8Bp8pdFRNZ-",
        "colab_type": "code",
        "colab": {
          "base_uri": "https://localhost:8080/",
          "height": 52
        },
        "outputId": "044db69f-d7ab-423d-85bf-823dab5af7aa"
      },
      "source": [
        "#np.full_like copies shape and type\n",
        "b_array = np.array([[1,2,3],[4,5,6]],dtype=np.int8)\n",
        "d_array = np.full_like(b_array, 9) #(array whose shape and type is to be copied, fill value)\n",
        "d_array"
      ],
      "execution_count": 45,
      "outputs": [
        {
          "output_type": "execute_result",
          "data": {
            "text/plain": [
              "array([[9, 9, 9],\n",
              "       [9, 9, 9]], dtype=int8)"
            ]
          },
          "metadata": {
            "tags": []
          },
          "execution_count": 45
        }
      ]
    },
    {
      "cell_type": "code",
      "metadata": {
        "id": "7XalOT8USLNZ",
        "colab_type": "code",
        "colab": {
          "base_uri": "https://localhost:8080/",
          "height": 52
        },
        "outputId": "9186b0b0-ae5b-48d5-c965-edcea45fdfe5"
      },
      "source": [
        "#np.full \n",
        "d_array = np.full((2,3),6) #((shape),fill val)\n",
        "d_array"
      ],
      "execution_count": 47,
      "outputs": [
        {
          "output_type": "execute_result",
          "data": {
            "text/plain": [
              "array([[6, 6, 6],\n",
              "       [6, 6, 6]])"
            ]
          },
          "metadata": {
            "tags": []
          },
          "execution_count": 47
        }
      ]
    },
    {
      "cell_type": "code",
      "metadata": {
        "id": "QjxNjGO7SbNf",
        "colab_type": "code",
        "colab": {
          "base_uri": "https://localhost:8080/",
          "height": 105
        },
        "outputId": "e374cb76-bb79-4d9a-ea31-f4430f98252b"
      },
      "source": [
        "#np.eye\n",
        "d_array = np.eye(5,4) #(row,col)\n",
        "d_array"
      ],
      "execution_count": 50,
      "outputs": [
        {
          "output_type": "execute_result",
          "data": {
            "text/plain": [
              "array([[1., 0., 0., 0.],\n",
              "       [0., 1., 0., 0.],\n",
              "       [0., 0., 1., 0.],\n",
              "       [0., 0., 0., 1.],\n",
              "       [0., 0., 0., 0.]])"
            ]
          },
          "metadata": {
            "tags": []
          },
          "execution_count": 50
        }
      ]
    },
    {
      "cell_type": "code",
      "metadata": {
        "id": "IP7QiMEcTLiq",
        "colab_type": "code",
        "colab": {
          "base_uri": "https://localhost:8080/",
          "height": 70
        },
        "outputId": "35361e5d-91bc-484b-ce95-e73782d8021d"
      },
      "source": [
        "#np.identity\n",
        "d_array = np.identity(3, dtype = np.int8)\n",
        "d_array"
      ],
      "execution_count": 56,
      "outputs": [
        {
          "output_type": "execute_result",
          "data": {
            "text/plain": [
              "array([[1, 0, 0],\n",
              "       [0, 1, 0],\n",
              "       [0, 0, 1]], dtype=int8)"
            ]
          },
          "metadata": {
            "tags": []
          },
          "execution_count": 56
        }
      ]
    },
    {
      "cell_type": "code",
      "metadata": {
        "id": "YhqmDzusWoA0",
        "colab_type": "code",
        "colab": {
          "base_uri": "https://localhost:8080/",
          "height": 52
        },
        "outputId": "ffab7efa-8b57-493f-b78e-b51febd08de4"
      },
      "source": [
        "#np.asarray converts input into array\n",
        "c = [[1,2,3],[2,7,8]]\n",
        "d_array = np.asarray(c)\n",
        "d_array"
      ],
      "execution_count": 57,
      "outputs": [
        {
          "output_type": "execute_result",
          "data": {
            "text/plain": [
              "array([[1, 2, 3],\n",
              "       [2, 7, 8]])"
            ]
          },
          "metadata": {
            "tags": []
          },
          "execution_count": 57
        }
      ]
    },
    {
      "cell_type": "code",
      "metadata": {
        "id": "I4DTAGOzXkpy",
        "colab_type": "code",
        "colab": {
          "base_uri": "https://localhost:8080/",
          "height": 34
        },
        "outputId": "842e3e71-9b61-49e2-f01c-3581ab7ecde2"
      },
      "source": [
        "#shows dtype\n",
        "d_array.dtype"
      ],
      "execution_count": 58,
      "outputs": [
        {
          "output_type": "execute_result",
          "data": {
            "text/plain": [
              "dtype('int64')"
            ]
          },
          "metadata": {
            "tags": []
          },
          "execution_count": 58
        }
      ]
    },
    {
      "cell_type": "code",
      "metadata": {
        "id": "bCOV0G8QXrLJ",
        "colab_type": "code",
        "colab": {
          "base_uri": "https://localhost:8080/",
          "height": 34
        },
        "outputId": "6d1b758b-33b5-460d-88b1-af2af8164d17"
      },
      "source": [
        "#explicitly changing dtype array.astype\n",
        "d_array = d_array.astype(np.int8)\n",
        "d_array.dtype"
      ],
      "execution_count": 59,
      "outputs": [
        {
          "output_type": "execute_result",
          "data": {
            "text/plain": [
              "dtype('int8')"
            ]
          },
          "metadata": {
            "tags": []
          },
          "execution_count": 59
        }
      ]
    },
    {
      "cell_type": "code",
      "metadata": {
        "id": "BJNDvXBsZCvj",
        "colab_type": "code",
        "colab": {
          "base_uri": "https://localhost:8080/",
          "height": 34
        },
        "outputId": "368ead52-6f7f-470a-ed56-7e4fcf274782"
      },
      "source": [
        "#string to int/float conversion\n",
        "d_array = np.array(['1.25','6.7','5.3'], dtype = np.string_ )\n",
        "d_array = d_array.astype(np.float)\n",
        "d_array"
      ],
      "execution_count": 61,
      "outputs": [
        {
          "output_type": "execute_result",
          "data": {
            "text/plain": [
              "array([1.25, 6.7 , 5.3 ])"
            ]
          },
          "metadata": {
            "tags": []
          },
          "execution_count": 61
        }
      ]
    },
    {
      "cell_type": "code",
      "metadata": {
        "id": "-x6eEm_hZl2F",
        "colab_type": "code",
        "colab": {
          "base_uri": "https://localhost:8080/",
          "height": 34
        },
        "outputId": "0a223620-5ea9-4982-f18f-bb17deb6c2c7"
      },
      "source": [
        "#boolean operations\n",
        "d_array = np.array([1,2,3,4])\n",
        "c_array = np.array([3,1,5,8])\n",
        "d_array < c_array"
      ],
      "execution_count": 64,
      "outputs": [
        {
          "output_type": "execute_result",
          "data": {
            "text/plain": [
              "array([ True, False,  True,  True])"
            ]
          },
          "metadata": {
            "tags": []
          },
          "execution_count": 64
        }
      ]
    },
    {
      "cell_type": "markdown",
      "metadata": {
        "id": "Oz-Vq4C5frd8",
        "colab_type": "text"
      },
      "source": [
        "##Basic Indexing and Slicing"
      ]
    },
    {
      "cell_type": "code",
      "metadata": {
        "id": "XhBlgx54cZbA",
        "colab_type": "code",
        "colab": {}
      },
      "source": [
        ""
      ],
      "execution_count": 0,
      "outputs": []
    },
    {
      "cell_type": "markdown",
      "metadata": {
        "id": "9mPWbqFwfp4e",
        "colab_type": "text"
      },
      "source": [
        "##Transposing arrays and swapping axes"
      ]
    },
    {
      "cell_type": "code",
      "metadata": {
        "id": "mrzq7ycn0n4S",
        "colab_type": "code",
        "colab": {
          "base_uri": "https://localhost:8080/",
          "height": 52
        },
        "outputId": "b5ca2013-cdb0-40bb-9317-e3dbaf282c27"
      },
      "source": [
        "#Transposing array.T\n",
        "d_array = np.arange(12).reshape(6,2)\n",
        "d_array.T"
      ],
      "execution_count": 66,
      "outputs": [
        {
          "output_type": "execute_result",
          "data": {
            "text/plain": [
              "array([[ 0,  2,  4,  6,  8, 10],\n",
              "       [ 1,  3,  5,  7,  9, 11]])"
            ]
          },
          "metadata": {
            "tags": []
          },
          "execution_count": 66
        }
      ]
    },
    {
      "cell_type": "code",
      "metadata": {
        "id": "IVapgdhD1ItF",
        "colab_type": "code",
        "colab": {
          "base_uri": "https://localhost:8080/",
          "height": 122
        },
        "outputId": "aa45c6af-b629-4813-8fa8-a7f56875183c"
      },
      "source": [
        "#Matrix Product np.dot and @ operator\n",
        "d_array = np.arange(15).reshape(5,3)\n",
        "c_array = np.arange(15).reshape(3,5)\n",
        "print(np.dot(c_array, d_array))\n",
        "print(c_array @ d_array)"
      ],
      "execution_count": 72,
      "outputs": [
        {
          "output_type": "stream",
          "text": [
            "[[ 90 100 110]\n",
            " [240 275 310]\n",
            " [390 450 510]]\n",
            "[[ 90 100 110]\n",
            " [240 275 310]\n",
            " [390 450 510]]\n"
          ],
          "name": "stdout"
        }
      ]
    },
    {
      "cell_type": "code",
      "metadata": {
        "id": "0NO7TyRD1hSz",
        "colab_type": "code",
        "colab": {
          "base_uri": "https://localhost:8080/",
          "height": 34
        },
        "outputId": "5ebc3aa1-696c-4d25-c2bd-8df0b0509bb0"
      },
      "source": [
        "#ravel (changes tensor to 1D)\n",
        "d_array = np.arange(12).reshape(3,4)\n",
        "np.ravel(d_array)"
      ],
      "execution_count": 71,
      "outputs": [
        {
          "output_type": "execute_result",
          "data": {
            "text/plain": [
              "array([ 0,  1,  2,  3,  4,  5,  6,  7,  8,  9, 10, 11])"
            ]
          },
          "metadata": {
            "tags": []
          },
          "execution_count": 71
        }
      ]
    }
  ]
}