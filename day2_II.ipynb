{
  "nbformat": 4,
  "nbformat_minor": 0,
  "metadata": {
    "colab": {
      "name": "day2 II.ipynb",
      "provenance": [],
      "collapsed_sections": []
    },
    "kernelspec": {
      "name": "python3",
      "display_name": "Python 3"
    }
  },
  "cells": [
    {
      "cell_type": "code",
      "metadata": {
        "id": "woWmj7i75I5w",
        "colab_type": "code",
        "colab": {}
      },
      "source": [
        "import numpy as np"
      ],
      "execution_count": 0,
      "outputs": []
    },
    {
      "cell_type": "markdown",
      "metadata": {
        "id": "LKLvcXWp5PwD",
        "colab_type": "text"
      },
      "source": [
        "#Advanced NumPy\n",
        "##Reshaping arrays\n",
        "##Concatenating & Splitting Arrays\n",
        "by default concatenation occurs on axis 0 <br>\n",
        "as the number of rows are increased <br>\n",
        "do not get confused with the  column length<br> \n",
        "add the matrices vertically, it means stack them in x asix <br>\n",
        "add the matrices horizontally, it means stack them in y axis<br>\n",
        "###Note : 0 for vertical , 1 for horizontal (opposite rule) \n",
        "##Stacking"
      ]
    },
    {
      "cell_type": "code",
      "metadata": {
        "id": "gFnN7cq36Ltx",
        "colab_type": "code",
        "outputId": "af19a4c0-4256-4e38-b612-706d7fbfcecc",
        "colab": {
          "base_uri": "https://localhost:8080/",
          "height": 87
        }
      },
      "source": [
        "arr = np.array([[1,2,3,4],[5,6,7,8]])\n",
        "brr = np.array([[9,10,11,12],[45,65,43,32]])\n",
        "np.concatenate([arr,brr])"
      ],
      "execution_count": 0,
      "outputs": [
        {
          "output_type": "execute_result",
          "data": {
            "text/plain": [
              "array([[ 1,  2,  3,  4],\n",
              "       [ 5,  6,  7,  8],\n",
              "       [ 9, 10, 11, 12],\n",
              "       [45, 65, 43, 32]])"
            ]
          },
          "metadata": {
            "tags": []
          },
          "execution_count": 3
        }
      ]
    },
    {
      "cell_type": "code",
      "metadata": {
        "id": "_2Dp8VBS7Hyp",
        "colab_type": "code",
        "outputId": "06c8122e-58a6-45b2-dd8b-8e96ca9c96c2",
        "colab": {
          "base_uri": "https://localhost:8080/",
          "height": 87
        }
      },
      "source": [
        "np.concatenate([arr,brr],axis = 0)          #vertical"
      ],
      "execution_count": 0,
      "outputs": [
        {
          "output_type": "execute_result",
          "data": {
            "text/plain": [
              "array([[ 1,  2,  3,  4],\n",
              "       [ 5,  6,  7,  8],\n",
              "       [ 9, 10, 11, 12],\n",
              "       [45, 65, 43, 32]])"
            ]
          },
          "metadata": {
            "tags": []
          },
          "execution_count": 4
        }
      ]
    },
    {
      "cell_type": "code",
      "metadata": {
        "id": "8e8CMuj17Q7q",
        "colab_type": "code",
        "outputId": "c221a225-e4c7-4f1c-b945-08e068e9c4ba",
        "colab": {
          "base_uri": "https://localhost:8080/",
          "height": 52
        }
      },
      "source": [
        "np.concatenate([arr,brr], axis = 1)         #horizontal"
      ],
      "execution_count": 0,
      "outputs": [
        {
          "output_type": "execute_result",
          "data": {
            "text/plain": [
              "array([[ 1,  2,  3,  4,  9, 10, 11, 12],\n",
              "       [ 5,  6,  7,  8, 45, 65, 43, 32]])"
            ]
          },
          "metadata": {
            "tags": []
          },
          "execution_count": 5
        }
      ]
    },
    {
      "cell_type": "markdown",
      "metadata": {
        "id": "gJxh24zy71bK",
        "colab_type": "text"
      },
      "source": [
        "###vstack and hstack"
      ]
    },
    {
      "cell_type": "code",
      "metadata": {
        "id": "-mU01xDh75d5",
        "colab_type": "code",
        "outputId": "87816d03-deac-4bb5-f9c6-1b1c8dac0c56",
        "colab": {
          "base_uri": "https://localhost:8080/",
          "height": 87
        }
      },
      "source": [
        "np.vstack((arr, brr))              #axis 0 rows increase"
      ],
      "execution_count": 0,
      "outputs": [
        {
          "output_type": "execute_result",
          "data": {
            "text/plain": [
              "array([[ 1,  2,  3,  4],\n",
              "       [ 5,  6,  7,  8],\n",
              "       [ 9, 10, 11, 12],\n",
              "       [45, 65, 43, 32]])"
            ]
          },
          "metadata": {
            "tags": []
          },
          "execution_count": 6
        }
      ]
    },
    {
      "cell_type": "code",
      "metadata": {
        "id": "XwurYZ8X8AlY",
        "colab_type": "code",
        "outputId": "162ac67b-49fc-4529-b021-1061f846d272",
        "colab": {
          "base_uri": "https://localhost:8080/",
          "height": 52
        }
      },
      "source": [
        "np.hstack((arr, brr))              #axis 1 columns increase"
      ],
      "execution_count": 0,
      "outputs": [
        {
          "output_type": "execute_result",
          "data": {
            "text/plain": [
              "array([[ 1,  2,  3,  4,  9, 10, 11, 12],\n",
              "       [ 5,  6,  7,  8, 45, 65, 43, 32]])"
            ]
          },
          "metadata": {
            "tags": []
          },
          "execution_count": 8
        }
      ]
    },
    {
      "cell_type": "markdown",
      "metadata": {
        "id": "soJHaFfH8fwz",
        "colab_type": "text"
      },
      "source": [
        "###split \n",
        "slices apart an array into multiple arrays along an axis"
      ]
    },
    {
      "cell_type": "code",
      "metadata": {
        "id": "W08TtLcg8m2r",
        "colab_type": "code",
        "colab": {}
      },
      "source": [
        "first_arr , second_arr , third_arr = np.split(arr, [1, 3])"
      ],
      "execution_count": 0,
      "outputs": []
    },
    {
      "cell_type": "code",
      "metadata": {
        "id": "V3woz6oo88qH",
        "colab_type": "code",
        "outputId": "450de899-d17c-44d9-c906-49a07912c7e8",
        "colab": {
          "base_uri": "https://localhost:8080/",
          "height": 52
        }
      },
      "source": [
        "first_arr"
      ],
      "execution_count": 0,
      "outputs": [
        {
          "output_type": "execute_result",
          "data": {
            "text/plain": [
              "array([[1, 2, 3, 4],\n",
              "       [5, 6, 7, 8]])"
            ]
          },
          "metadata": {
            "tags": []
          },
          "execution_count": 15
        }
      ]
    },
    {
      "cell_type": "code",
      "metadata": {
        "id": "4RS-SK4S9CE_",
        "colab_type": "code",
        "outputId": "cbe65f3d-5902-4042-acc2-7b190275a1a9",
        "colab": {
          "base_uri": "https://localhost:8080/",
          "height": 34
        }
      },
      "source": [
        "second_arr"
      ],
      "execution_count": 0,
      "outputs": [
        {
          "output_type": "execute_result",
          "data": {
            "text/plain": [
              "array([[5, 6, 7, 8]])"
            ]
          },
          "metadata": {
            "tags": []
          },
          "execution_count": 12
        }
      ]
    },
    {
      "cell_type": "code",
      "metadata": {
        "id": "SjTidMiN9Dnt",
        "colab_type": "code",
        "outputId": "aae9ccfb-08d8-4c89-e374-2938812dc908",
        "colab": {
          "base_uri": "https://localhost:8080/",
          "height": 34
        }
      },
      "source": [
        "third_arr"
      ],
      "execution_count": 0,
      "outputs": [
        {
          "output_type": "execute_result",
          "data": {
            "text/plain": [
              "array([], shape=(0, 4), dtype=int64)"
            ]
          },
          "metadata": {
            "tags": []
          },
          "execution_count": 13
        }
      ]
    },
    {
      "cell_type": "code",
      "metadata": {
        "id": "WD1N647f9x0Y",
        "colab_type": "code",
        "outputId": "cc1a2095-8745-4272-a2e4-737b2c1937a3",
        "colab": {
          "base_uri": "https://localhost:8080/",
          "height": 122
        }
      },
      "source": [
        "arr = np.arange(36).reshape(6,6)\n",
        "arr"
      ],
      "execution_count": 4,
      "outputs": [
        {
          "output_type": "execute_result",
          "data": {
            "text/plain": [
              "array([[ 0,  1,  2,  3,  4,  5],\n",
              "       [ 6,  7,  8,  9, 10, 11],\n",
              "       [12, 13, 14, 15, 16, 17],\n",
              "       [18, 19, 20, 21, 22, 23],\n",
              "       [24, 25, 26, 27, 28, 29],\n",
              "       [30, 31, 32, 33, 34, 35]])"
            ]
          },
          "metadata": {
            "tags": []
          },
          "execution_count": 4
        }
      ]
    },
    {
      "cell_type": "markdown",
      "metadata": {
        "id": "T4uCoJrS-uK9",
        "colab_type": "text"
      },
      "source": [
        "###vsplit\n",
        "cut horizontal"
      ]
    },
    {
      "cell_type": "code",
      "metadata": {
        "id": "UPHt-5OA93er",
        "colab_type": "code",
        "colab": {}
      },
      "source": [
        "first, second, third = np.vsplit(arr, 3)      #horizontal, row wise split"
      ],
      "execution_count": 0,
      "outputs": []
    },
    {
      "cell_type": "code",
      "metadata": {
        "id": "P2fqC3z9-fbM",
        "colab_type": "code",
        "outputId": "2f421b7c-7a71-47e8-e682-53b791d6fe7e",
        "colab": {
          "base_uri": "https://localhost:8080/",
          "height": 52
        }
      },
      "source": [
        "first"
      ],
      "execution_count": 0,
      "outputs": [
        {
          "output_type": "execute_result",
          "data": {
            "text/plain": [
              "array([[ 0,  1,  2,  3,  4,  5],\n",
              "       [ 6,  7,  8,  9, 10, 11]])"
            ]
          },
          "metadata": {
            "tags": []
          },
          "execution_count": 22
        }
      ]
    },
    {
      "cell_type": "code",
      "metadata": {
        "id": "M4dmSwqY-ma3",
        "colab_type": "code",
        "outputId": "1c0c75fe-9db2-45cb-c6c6-eb6a6edf612c",
        "colab": {
          "base_uri": "https://localhost:8080/",
          "height": 52
        }
      },
      "source": [
        "second"
      ],
      "execution_count": 0,
      "outputs": [
        {
          "output_type": "execute_result",
          "data": {
            "text/plain": [
              "array([[12, 13, 14, 15, 16, 17],\n",
              "       [18, 19, 20, 21, 22, 23]])"
            ]
          },
          "metadata": {
            "tags": []
          },
          "execution_count": 23
        }
      ]
    },
    {
      "cell_type": "code",
      "metadata": {
        "id": "hLp2LkaS-p0g",
        "colab_type": "code",
        "outputId": "e8dea2d7-c1f7-44bd-8b7d-9ce626fc152e",
        "colab": {
          "base_uri": "https://localhost:8080/",
          "height": 52
        }
      },
      "source": [
        "third"
      ],
      "execution_count": 0,
      "outputs": [
        {
          "output_type": "execute_result",
          "data": {
            "text/plain": [
              "array([[24, 25, 26, 27, 28, 29],\n",
              "       [30, 31, 32, 33, 34, 35]])"
            ]
          },
          "metadata": {
            "tags": []
          },
          "execution_count": 24
        }
      ]
    },
    {
      "cell_type": "markdown",
      "metadata": {
        "id": "oiJe6AtE-2WZ",
        "colab_type": "text"
      },
      "source": [
        "###hsplit\n",
        "cut vertical"
      ]
    },
    {
      "cell_type": "code",
      "metadata": {
        "id": "LamJAmnc-597",
        "colab_type": "code",
        "colab": {}
      },
      "source": [
        "first, second, third = np.hsplit(arr, 3)"
      ],
      "execution_count": 0,
      "outputs": []
    },
    {
      "cell_type": "code",
      "metadata": {
        "id": "ihN3o9nZ_C3I",
        "colab_type": "code",
        "outputId": "5c2456f4-f95d-4990-bea7-d12cf3b3407a",
        "colab": {
          "base_uri": "https://localhost:8080/",
          "height": 122
        }
      },
      "source": [
        "first"
      ],
      "execution_count": 0,
      "outputs": [
        {
          "output_type": "execute_result",
          "data": {
            "text/plain": [
              "array([[ 0,  1],\n",
              "       [ 6,  7],\n",
              "       [12, 13],\n",
              "       [18, 19],\n",
              "       [24, 25],\n",
              "       [30, 31]])"
            ]
          },
          "metadata": {
            "tags": []
          },
          "execution_count": 26
        }
      ]
    },
    {
      "cell_type": "code",
      "metadata": {
        "id": "epsJNm5G_E8I",
        "colab_type": "code",
        "outputId": "a7b19408-6d7a-43e6-8fa3-18575d6ab20d",
        "colab": {
          "base_uri": "https://localhost:8080/",
          "height": 122
        }
      },
      "source": [
        "second"
      ],
      "execution_count": 0,
      "outputs": [
        {
          "output_type": "execute_result",
          "data": {
            "text/plain": [
              "array([[ 2,  3],\n",
              "       [ 8,  9],\n",
              "       [14, 15],\n",
              "       [20, 21],\n",
              "       [26, 27],\n",
              "       [32, 33]])"
            ]
          },
          "metadata": {
            "tags": []
          },
          "execution_count": 27
        }
      ]
    },
    {
      "cell_type": "code",
      "metadata": {
        "id": "0z5bnVEK_HFU",
        "colab_type": "code",
        "outputId": "a97b7aa5-0887-46ad-9e61-10bfd211f090",
        "colab": {
          "base_uri": "https://localhost:8080/",
          "height": 122
        }
      },
      "source": [
        "third"
      ],
      "execution_count": 0,
      "outputs": [
        {
          "output_type": "execute_result",
          "data": {
            "text/plain": [
              "array([[ 4,  5],\n",
              "       [10, 11],\n",
              "       [16, 17],\n",
              "       [22, 23],\n",
              "       [28, 29],\n",
              "       [34, 35]])"
            ]
          },
          "metadata": {
            "tags": []
          },
          "execution_count": 28
        }
      ]
    },
    {
      "cell_type": "markdown",
      "metadata": {
        "id": "k6E0nyBF_cx5",
        "colab_type": "text"
      },
      "source": [
        "##Repeat & tile"
      ]
    },
    {
      "cell_type": "code",
      "metadata": {
        "id": "aYGjr1rk_fsi",
        "colab_type": "code",
        "outputId": "3ae7239c-1f75-41e3-8e54-454b31085372",
        "colab": {
          "base_uri": "https://localhost:8080/",
          "height": 122
        }
      },
      "source": [
        "arr "
      ],
      "execution_count": 0,
      "outputs": [
        {
          "output_type": "execute_result",
          "data": {
            "text/plain": [
              "array([[ 0,  1,  2,  3,  4,  5],\n",
              "       [ 6,  7,  8,  9, 10, 11],\n",
              "       [12, 13, 14, 15, 16, 17],\n",
              "       [18, 19, 20, 21, 22, 23],\n",
              "       [24, 25, 26, 27, 28, 29],\n",
              "       [30, 31, 32, 33, 34, 35]])"
            ]
          },
          "metadata": {
            "tags": []
          },
          "execution_count": 29
        }
      ]
    },
    {
      "cell_type": "code",
      "metadata": {
        "id": "tmAiODQ1_ix5",
        "colab_type": "code",
        "outputId": "5427616b-8a17-447f-82b4-8165c81802c8",
        "colab": {
          "base_uri": "https://localhost:8080/",
          "height": 122
        }
      },
      "source": [
        "np.tile(arr, 2)           #adds the same matrice on 0 axis"
      ],
      "execution_count": 0,
      "outputs": [
        {
          "output_type": "execute_result",
          "data": {
            "text/plain": [
              "array([[ 0,  1,  2,  3,  4,  5,  0,  1,  2,  3,  4,  5],\n",
              "       [ 6,  7,  8,  9, 10, 11,  6,  7,  8,  9, 10, 11],\n",
              "       [12, 13, 14, 15, 16, 17, 12, 13, 14, 15, 16, 17],\n",
              "       [18, 19, 20, 21, 22, 23, 18, 19, 20, 21, 22, 23],\n",
              "       [24, 25, 26, 27, 28, 29, 24, 25, 26, 27, 28, 29],\n",
              "       [30, 31, 32, 33, 34, 35, 30, 31, 32, 33, 34, 35]])"
            ]
          },
          "metadata": {
            "tags": []
          },
          "execution_count": 31
        }
      ]
    },
    {
      "cell_type": "code",
      "metadata": {
        "id": "E0bDrBdT_1Ca",
        "colab_type": "code",
        "outputId": "9a0271df-9b3a-4a53-9771-cfca8b6961dd",
        "colab": {
          "base_uri": "https://localhost:8080/",
          "height": 52
        }
      },
      "source": [
        "c = np.arange(3).reshape(1,3)\n",
        "print(c)\n",
        "print(np.tile(c, 2))                #horizontal stacking"
      ],
      "execution_count": 11,
      "outputs": [
        {
          "output_type": "stream",
          "text": [
            "[[0 1 2]]\n",
            "[[0 1 2 0 1 2]]\n"
          ],
          "name": "stdout"
        }
      ]
    }
  ]
}