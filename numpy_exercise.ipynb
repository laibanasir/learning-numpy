{
  "nbformat": 4,
  "nbformat_minor": 0,
  "metadata": {
    "colab": {
      "name": "numpy exercise.ipynb",
      "provenance": [],
      "collapsed_sections": []
    },
    "kernelspec": {
      "name": "python3",
      "display_name": "Python 3"
    }
  },
  "cells": [
    {
      "cell_type": "code",
      "metadata": {
        "id": "lixRNkJm93q3",
        "colab_type": "code",
        "colab": {}
      },
      "source": [
        "import numpy as np"
      ],
      "execution_count": 0,
      "outputs": []
    },
    {
      "cell_type": "markdown",
      "metadata": {
        "id": "5MYT53i24bew",
        "colab_type": "text"
      },
      "source": [
        "###How to stack two arrays vertically?"
      ]
    },
    {
      "cell_type": "code",
      "metadata": {
        "id": "JvX-svej4eiQ",
        "colab_type": "code",
        "outputId": "73bf7779-0c1a-4f8c-849a-2cf4a61b4576",
        "colab": {
          "base_uri": "https://localhost:8080/",
          "height": 87
        }
      },
      "source": [
        "a = np.arange(10).reshape(2, -1)\n",
        "b = np.arange(10).reshape(2, -1)\n",
        "np.vstack([a,b]) #shapes of both tensors must be same"
      ],
      "execution_count": 0,
      "outputs": [
        {
          "output_type": "execute_result",
          "data": {
            "text/plain": [
              "array([[0, 1, 2, 3, 4],\n",
              "       [5, 6, 7, 8, 9],\n",
              "       [0, 1, 2, 3, 4],\n",
              "       [5, 6, 7, 8, 9]])"
            ]
          },
          "metadata": {
            "tags": []
          },
          "execution_count": 20
        }
      ]
    },
    {
      "cell_type": "markdown",
      "metadata": {
        "id": "lz1i5Ts5988p",
        "colab_type": "text"
      },
      "source": [
        "###How to stack two arrays horizontally?"
      ]
    },
    {
      "cell_type": "code",
      "metadata": {
        "id": "i51vCd1C-Bc1",
        "colab_type": "code",
        "outputId": "2adca93d-1352-4a0b-9ef7-d47131401825",
        "colab": {
          "base_uri": "https://localhost:8080/",
          "height": 70
        }
      },
      "source": [
        "a = np.arange(15).reshape(3,-1)\n",
        "b = np.arange(15).reshape(3,-1)\n",
        "np.hstack([a,b])"
      ],
      "execution_count": 0,
      "outputs": [
        {
          "output_type": "execute_result",
          "data": {
            "text/plain": [
              "array([[ 0,  1,  2,  3,  4,  0,  1,  2,  3,  4],\n",
              "       [ 5,  6,  7,  8,  9,  5,  6,  7,  8,  9],\n",
              "       [10, 11, 12, 13, 14, 10, 11, 12, 13, 14]])"
            ]
          },
          "metadata": {
            "tags": []
          },
          "execution_count": 22
        }
      ]
    },
    {
      "cell_type": "markdown",
      "metadata": {
        "id": "XIdEprCF-SWQ",
        "colab_type": "text"
      },
      "source": [
        "###How to generate custom sequences in numpy without hardcoding?"
      ]
    },
    {
      "cell_type": "code",
      "metadata": {
        "id": "HIw19HED-W48",
        "colab_type": "code",
        "outputId": "f3d256e6-1fe9-4462-fc53-9066212a8a66",
        "colab": {
          "base_uri": "https://localhost:8080/",
          "height": 238
        }
      },
      "source": [
        ""
      ],
      "execution_count": 0,
      "outputs": [
        {
          "output_type": "error",
          "ename": "ValueError",
          "evalue": "ignored",
          "traceback": [
            "\u001b[0;31m---------------------------------------------------------------------------\u001b[0m",
            "\u001b[0;31mValueError\u001b[0m                                Traceback (most recent call last)",
            "\u001b[0;32m<ipython-input-25-4d014c906a86>\u001b[0m in \u001b[0;36m<module>\u001b[0;34m()\u001b[0m\n\u001b[1;32m      2\u001b[0m \u001b[0mb\u001b[0m \u001b[0;34m=\u001b[0m \u001b[0ma\u001b[0m \u001b[0;34m<\u001b[0m \u001b[0;36m4\u001b[0m\u001b[0;34m\u001b[0m\u001b[0;34m\u001b[0m\u001b[0m\n\u001b[1;32m      3\u001b[0m \u001b[0ma\u001b[0m\u001b[0;34m[\u001b[0m\u001b[0mb\u001b[0m\u001b[0;34m]\u001b[0m \u001b[0;34m=\u001b[0m \u001b[0;36m1\u001b[0m\u001b[0;34m\u001b[0m\u001b[0;34m\u001b[0m\u001b[0m\n\u001b[0;32m----> 4\u001b[0;31m \u001b[0mb\u001b[0m \u001b[0;34m=\u001b[0m \u001b[0ma\u001b[0m \u001b[0;34m>\u001b[0m \u001b[0;36m4\u001b[0m \u001b[0;32mand\u001b[0m \u001b[0ma\u001b[0m \u001b[0;34m<\u001b[0m \u001b[0;36m7\u001b[0m\u001b[0;34m\u001b[0m\u001b[0;34m\u001b[0m\u001b[0m\n\u001b[0m\u001b[1;32m      5\u001b[0m \u001b[0ma\u001b[0m\u001b[0;34m[\u001b[0m\u001b[0mb\u001b[0m\u001b[0;34m]\u001b[0m \u001b[0;34m=\u001b[0m \u001b[0;36m2\u001b[0m\u001b[0;34m\u001b[0m\u001b[0;34m\u001b[0m\u001b[0m\n\u001b[1;32m      6\u001b[0m \u001b[0ma\u001b[0m\u001b[0;34m\u001b[0m\u001b[0;34m\u001b[0m\u001b[0m\n",
            "\u001b[0;31mValueError\u001b[0m: The truth value of an array with more than one element is ambiguous. Use a.any() or a.all()"
          ]
        }
      ]
    },
    {
      "cell_type": "markdown",
      "metadata": {
        "id": "ZGv2fbPIzjFC",
        "colab_type": "text"
      },
      "source": [
        "###Write a NumPy program to generate five random numbers from the normal distribution."
      ]
    },
    {
      "cell_type": "code",
      "metadata": {
        "id": "uAb_reGeznzT",
        "colab_type": "code",
        "outputId": "172cba39-bdc0-40f8-d9a1-2f0980402c16",
        "colab": {
          "base_uri": "https://localhost:8080/",
          "height": 34
        }
      },
      "source": [
        "a = np.random.normal(size = 5)\n",
        "a"
      ],
      "execution_count": 0,
      "outputs": [
        {
          "output_type": "execute_result",
          "data": {
            "text/plain": [
              "array([ 0.99858129,  0.2538784 ,  0.97452577, -0.0145633 ,  0.02365411])"
            ]
          },
          "metadata": {
            "tags": []
          },
          "execution_count": 5
        }
      ]
    },
    {
      "cell_type": "markdown",
      "metadata": {
        "id": "St93HqHa0AD0",
        "colab_type": "text"
      },
      "source": [
        "###Write a NumPy program to generate six random integers between 10 and 30."
      ]
    },
    {
      "cell_type": "code",
      "metadata": {
        "id": "8j1lIT8E0Fz7",
        "colab_type": "code",
        "outputId": "4fefa32e-5ad2-41ec-f803-e8c90ec5c54d",
        "colab": {
          "base_uri": "https://localhost:8080/",
          "height": 34
        }
      },
      "source": [
        "a = np.random.randint(low = 10, high = 30, size = 6)\n",
        "a"
      ],
      "execution_count": 0,
      "outputs": [
        {
          "output_type": "execute_result",
          "data": {
            "text/plain": [
              "array([11, 27, 28, 28, 20, 10])"
            ]
          },
          "metadata": {
            "tags": []
          },
          "execution_count": 9
        }
      ]
    },
    {
      "cell_type": "markdown",
      "metadata": {
        "id": "cFsedTiA0iuV",
        "colab_type": "text"
      },
      "source": [
        "###Write a NumPy program to create a 3x3x3 array with random values.\n",
        "\n"
      ]
    },
    {
      "cell_type": "code",
      "metadata": {
        "id": "gvy_O0hG0ndq",
        "colab_type": "code",
        "outputId": "43fc7697-c551-41ee-dd08-ae489cb84dc9",
        "colab": {
          "base_uri": "https://localhost:8080/",
          "height": 210
        }
      },
      "source": [
        "a = np.random.random((3,3,3))\n",
        "a"
      ],
      "execution_count": 0,
      "outputs": [
        {
          "output_type": "execute_result",
          "data": {
            "text/plain": [
              "array([[[0.0951526 , 0.951159  , 0.81940924],\n",
              "        [0.44806381, 0.58633803, 0.49280417],\n",
              "        [0.31213262, 0.2214576 , 0.50033758]],\n",
              "\n",
              "       [[0.40792286, 0.1126338 , 0.16425491],\n",
              "        [0.25569597, 0.64298089, 0.1699397 ],\n",
              "        [0.72024671, 0.90373319, 0.29145345]],\n",
              "\n",
              "       [[0.27842294, 0.25816907, 0.57146473],\n",
              "        [0.61233832, 0.59309937, 0.77646249],\n",
              "        [0.92355834, 0.60362274, 0.6467134 ]]])"
            ]
          },
          "metadata": {
            "tags": []
          },
          "execution_count": 13
        }
      ]
    },
    {
      "cell_type": "markdown",
      "metadata": {
        "id": "ml6m4o5708bD",
        "colab_type": "text"
      },
      "source": [
        "###Write a NumPy program to create a 5x5 array with random values and find the minimum and maximum values."
      ]
    },
    {
      "cell_type": "code",
      "metadata": {
        "id": "QlzhgV0U1DKU",
        "colab_type": "code",
        "outputId": "204f04f0-500f-40bd-bb52-2fcc714d5ad1",
        "colab": {
          "base_uri": "https://localhost:8080/",
          "height": 140
        }
      },
      "source": [
        "a = np.random.random((5,5))\n",
        "print('array : ' , a)\n",
        "print(\"max : \" , a.max())\n",
        "print(\"min : \" , a.min())"
      ],
      "execution_count": 0,
      "outputs": [
        {
          "output_type": "stream",
          "text": [
            "array :  [[0.00363454 0.96635994 0.42243926 0.97819564 0.8478946 ]\n",
            " [0.83496945 0.16627462 0.40189953 0.29012174 0.83232757]\n",
            " [0.58540117 0.16704693 0.81352294 0.93372839 0.61015904]\n",
            " [0.43483638 0.30390077 0.32022194 0.82156492 0.92568088]\n",
            " [0.38350848 0.20731039 0.19750667 0.64932083 0.18328084]]\n",
            "max :  0.9781956406055151\n",
            "min :  0.0036345429341582136\n"
          ],
          "name": "stdout"
        }
      ]
    },
    {
      "cell_type": "markdown",
      "metadata": {
        "id": "Yk7bu7J3Nw9h",
        "colab_type": "text"
      },
      "source": [
        "###Create an array of shape (2, 3, 4) of zeros."
      ]
    },
    {
      "cell_type": "code",
      "metadata": {
        "id": "FswFTr_3NzGp",
        "colab_type": "code",
        "colab": {
          "base_uri": "https://localhost:8080/",
          "height": 140
        },
        "outputId": "74037860-6e77-4424-c79e-ed9eb8879c93"
      },
      "source": [
        "a = np.zeros((2,3,4))\n",
        "a"
      ],
      "execution_count": 4,
      "outputs": [
        {
          "output_type": "execute_result",
          "data": {
            "text/plain": [
              "array([[[0., 0., 0., 0.],\n",
              "        [0., 0., 0., 0.],\n",
              "        [0., 0., 0., 0.]],\n",
              "\n",
              "       [[0., 0., 0., 0.],\n",
              "        [0., 0., 0., 0.],\n",
              "        [0., 0., 0., 0.]]])"
            ]
          },
          "metadata": {
            "tags": []
          },
          "execution_count": 4
        }
      ]
    },
    {
      "cell_type": "markdown",
      "metadata": {
        "id": "w5Np9ZPUOKKF",
        "colab_type": "text"
      },
      "source": [
        "###Create an array of shape (2, 3, 4) of ones."
      ]
    },
    {
      "cell_type": "code",
      "metadata": {
        "id": "Uq6E8gvKOMa_",
        "colab_type": "code",
        "colab": {
          "base_uri": "https://localhost:8080/",
          "height": 140
        },
        "outputId": "bf769553-054b-491c-9323-3bd16ba5873e"
      },
      "source": [
        "a = np.ones((2, 3, 4))\n",
        "a"
      ],
      "execution_count": 5,
      "outputs": [
        {
          "output_type": "execute_result",
          "data": {
            "text/plain": [
              "array([[[1., 1., 1., 1.],\n",
              "        [1., 1., 1., 1.],\n",
              "        [1., 1., 1., 1.]],\n",
              "\n",
              "       [[1., 1., 1., 1.],\n",
              "        [1., 1., 1., 1.],\n",
              "        [1., 1., 1., 1.]]])"
            ]
          },
          "metadata": {
            "tags": []
          },
          "execution_count": 5
        }
      ]
    },
    {
      "cell_type": "markdown",
      "metadata": {
        "id": "OuLeOCpcOS8P",
        "colab_type": "text"
      },
      "source": [
        "###Create an array with values 0 to 99 using the \"np.arange\" function."
      ]
    },
    {
      "cell_type": "code",
      "metadata": {
        "id": "KCrmkBQ9OVgo",
        "colab_type": "code",
        "colab": {
          "base_uri": "https://localhost:8080/",
          "height": 122
        },
        "outputId": "1d167fce-7688-4bf4-98bd-2a1195398879"
      },
      "source": [
        "a = np.arange(0, 99)\n",
        "a"
      ],
      "execution_count": 7,
      "outputs": [
        {
          "output_type": "execute_result",
          "data": {
            "text/plain": [
              "array([ 0,  1,  2,  3,  4,  5,  6,  7,  8,  9, 10, 11, 12, 13, 14, 15, 16,\n",
              "       17, 18, 19, 20, 21, 22, 23, 24, 25, 26, 27, 28, 29, 30, 31, 32, 33,\n",
              "       34, 35, 36, 37, 38, 39, 40, 41, 42, 43, 44, 45, 46, 47, 48, 49, 50,\n",
              "       51, 52, 53, 54, 55, 56, 57, 58, 59, 60, 61, 62, 63, 64, 65, 66, 67,\n",
              "       68, 69, 70, 71, 72, 73, 74, 75, 76, 77, 78, 79, 80, 81, 82, 83, 84,\n",
              "       85, 86, 87, 88, 89, 90, 91, 92, 93, 94, 95, 96, 97, 98])"
            ]
          },
          "metadata": {
            "tags": []
          },
          "execution_count": 7
        }
      ]
    },
    {
      "cell_type": "markdown",
      "metadata": {
        "id": "n8M8Kh32Od_K",
        "colab_type": "text"
      },
      "source": [
        "###Create an array from the list [2, 3.2, 5.5, -6.4, -2.2, 2.4] and assign it to the variable \"a\"."
      ]
    },
    {
      "cell_type": "code",
      "metadata": {
        "id": "t78lbj9SOja0",
        "colab_type": "code",
        "colab": {
          "base_uri": "https://localhost:8080/",
          "height": 34
        },
        "outputId": "dac27763-9230-473c-857d-f28607e9b0b2"
      },
      "source": [
        "b = [2, 3.2, 5.5, -6.4, -2.2, 2.4]\n",
        "a = np.array(b)\n",
        "a"
      ],
      "execution_count": 11,
      "outputs": [
        {
          "output_type": "execute_result",
          "data": {
            "text/plain": [
              "array([ 2. ,  3.2,  5.5, -6.4, -2.2,  2.4])"
            ]
          },
          "metadata": {
            "tags": []
          },
          "execution_count": 11
        }
      ]
    },
    {
      "cell_type": "markdown",
      "metadata": {
        "id": "Mc-LaL1OP47n",
        "colab_type": "text"
      },
      "source": [
        "###Do you know what a[1] will equal? Print it to see \n",
        "3.2"
      ]
    },
    {
      "cell_type": "code",
      "metadata": {
        "id": "GZDvzuPSP84v",
        "colab_type": "code",
        "colab": {
          "base_uri": "https://localhost:8080/",
          "height": 34
        },
        "outputId": "6c53beaa-a13c-4c52-c45b-e2876f29c019"
      },
      "source": [
        "a[1]"
      ],
      "execution_count": 12,
      "outputs": [
        {
          "output_type": "execute_result",
          "data": {
            "text/plain": [
              "3.2"
            ]
          },
          "metadata": {
            "tags": []
          },
          "execution_count": 12
        }
      ]
    },
    {
      "cell_type": "markdown",
      "metadata": {
        "id": "D40Q03waQBxO",
        "colab_type": "text"
      },
      "source": [
        "###Try printing a[1:4] to see what that equals\n",
        "3.2, 5.5, -6.4"
      ]
    },
    {
      "cell_type": "code",
      "metadata": {
        "id": "NfhkfZuwQG6K",
        "colab_type": "code",
        "colab": {
          "base_uri": "https://localhost:8080/",
          "height": 34
        },
        "outputId": "b401f394-a285-4edf-e074-c76d0899a8ca"
      },
      "source": [
        "a[1:4]"
      ],
      "execution_count": 13,
      "outputs": [
        {
          "output_type": "execute_result",
          "data": {
            "text/plain": [
              "array([ 3.2,  5.5, -6.4])"
            ]
          },
          "metadata": {
            "tags": []
          },
          "execution_count": 13
        }
      ]
    },
    {
      "cell_type": "markdown",
      "metadata": {
        "id": "k2nlwOqcQLM6",
        "colab_type": "text"
      },
      "source": [
        "###Create a 2-D array from the following list and assign it to the variable \"a\": [[2, 3.2, 5.5, -6.4, -2.2, 2.4], [1, 22, 4, 0.1, 5.3, -9], [3, 1, 2.1, 21, 1.1, -2]]"
      ]
    },
    {
      "cell_type": "code",
      "metadata": {
        "id": "DMLd1twNQOlZ",
        "colab_type": "code",
        "colab": {
          "base_uri": "https://localhost:8080/",
          "height": 70
        },
        "outputId": "c19f35f2-8559-4225-d28d-cdba54e7d462"
      },
      "source": [
        "a = np.array([[2, 3.2, 5.5, -6.4, -2.2, 2.4], [1, 22, 4, 0.1, 5.3, -9], [3, 1, 2.1, 21, 1.1, -2]])\n",
        "a"
      ],
      "execution_count": 16,
      "outputs": [
        {
          "output_type": "execute_result",
          "data": {
            "text/plain": [
              "array([[ 2. ,  3.2,  5.5, -6.4, -2.2,  2.4],\n",
              "       [ 1. , 22. ,  4. ,  0.1,  5.3, -9. ],\n",
              "       [ 3. ,  1. ,  2.1, 21. ,  1.1, -2. ]])"
            ]
          },
          "metadata": {
            "tags": []
          },
          "execution_count": 16
        }
      ]
    },
    {
      "cell_type": "markdown",
      "metadata": {
        "id": "9o_z4A8PQcJI",
        "colab_type": "text"
      },
      "source": [
        "###Can you guess what the following slices are equal to? Print them to check your understanding. a[:, 3] a[1:4, 0:4] a[1:, 2]\n",
        "a[:,3] = [-6.4, 0.1, 21.] <br>\n",
        "a[1:4, 0:4] = [[ 1. , 22. ,  4. ,  0.1],\n",
        "              [ 3. ,  1. ,  2.1, 21. ]] <br>\n",
        "a[1:,2] = [4., 2.1]"
      ]
    },
    {
      "cell_type": "code",
      "metadata": {
        "id": "JMBFM2hfQhbE",
        "colab_type": "code",
        "colab": {
          "base_uri": "https://localhost:8080/",
          "height": 34
        },
        "outputId": "c8d620b4-458f-4466-c966-1f065bbfb21d"
      },
      "source": [
        "a[:,3]"
      ],
      "execution_count": 17,
      "outputs": [
        {
          "output_type": "execute_result",
          "data": {
            "text/plain": [
              "array([-6.4,  0.1, 21. ])"
            ]
          },
          "metadata": {
            "tags": []
          },
          "execution_count": 17
        }
      ]
    },
    {
      "cell_type": "code",
      "metadata": {
        "id": "gU3IfTgBTGOr",
        "colab_type": "code",
        "colab": {
          "base_uri": "https://localhost:8080/",
          "height": 52
        },
        "outputId": "1ad43dd7-e658-41b4-ce42-05c04af8ba13"
      },
      "source": [
        "a[1:4, 0:4]"
      ],
      "execution_count": 18,
      "outputs": [
        {
          "output_type": "execute_result",
          "data": {
            "text/plain": [
              "array([[ 1. , 22. ,  4. ,  0.1],\n",
              "       [ 3. ,  1. ,  2.1, 21. ]])"
            ]
          },
          "metadata": {
            "tags": []
          },
          "execution_count": 18
        }
      ]
    },
    {
      "cell_type": "code",
      "metadata": {
        "id": "9DVHfvg8TdWX",
        "colab_type": "code",
        "colab": {
          "base_uri": "https://localhost:8080/",
          "height": 34
        },
        "outputId": "95e43a32-c73c-4554-85c5-43110b08d102"
      },
      "source": [
        "a[1:,2]"
      ],
      "execution_count": 20,
      "outputs": [
        {
          "output_type": "execute_result",
          "data": {
            "text/plain": [
              "array([4. , 2.1])"
            ]
          },
          "metadata": {
            "tags": []
          },
          "execution_count": 20
        }
      ]
    },
    {
      "cell_type": "markdown",
      "metadata": {
        "id": "SREcUJ_-Tt8m",
        "colab_type": "text"
      },
      "source": [
        "###Create a 2-D array of shape (2, 4) containing two lists (range(4), range(10, 14)) and assign it to the variable \"arr\".Print the shape of the array. Print the size of the array. Print the maximum and minimum of the array."
      ]
    },
    {
      "cell_type": "code",
      "metadata": {
        "id": "XvRixp-qT1J2",
        "colab_type": "code",
        "colab": {
          "base_uri": "https://localhost:8080/",
          "height": 87
        },
        "outputId": "4426f26f-5da6-42f1-de30-6928e2087119"
      },
      "source": [
        "a = [x for x in range(4)]\n",
        "b = [x for x in range(10,14)]\n",
        "arr = np.array([a,b])\n",
        "print(arr.shape)\n",
        "print(arr.size)\n",
        "print('maximum : ', arr.max())\n",
        "print('minimum : ', arr.min())"
      ],
      "execution_count": 23,
      "outputs": [
        {
          "output_type": "stream",
          "text": [
            "(2, 4)\n",
            "8\n",
            "maximum :  13\n",
            "minimum :  0\n"
          ],
          "name": "stdout"
        }
      ]
    },
    {
      "cell_type": "markdown",
      "metadata": {
        "id": "IVLd70UsUvXy",
        "colab_type": "text"
      },
      "source": [
        "###Continue to use the array \"arr\" as defined above.Print the array re-shaped to (2, 2, 2).Print the array transposed.Print the array flattened to a single dimension. Print the array converted to floats."
      ]
    },
    {
      "cell_type": "code",
      "metadata": {
        "id": "cA9pVmhPU0dP",
        "colab_type": "code",
        "colab": {
          "base_uri": "https://localhost:8080/",
          "height": 263
        },
        "outputId": "9a64b86a-a6f1-4f09-c37a-87403647e243"
      },
      "source": [
        "print(arr)\n",
        "print(arr.reshape((2,2,2)))\n",
        "print(arr.transpose())\n",
        "print(arr.ravel())\n",
        "arr.astype(np.float)"
      ],
      "execution_count": 29,
      "outputs": [
        {
          "output_type": "stream",
          "text": [
            "[[ 0  1  2  3]\n",
            " [10 11 12 13]]\n",
            "[[[ 0  1]\n",
            "  [ 2  3]]\n",
            "\n",
            " [[10 11]\n",
            "  [12 13]]]\n",
            "[[ 0 10]\n",
            " [ 1 11]\n",
            " [ 2 12]\n",
            " [ 3 13]]\n",
            "[ 0  1  2  3 10 11 12 13]\n"
          ],
          "name": "stdout"
        },
        {
          "output_type": "execute_result",
          "data": {
            "text/plain": [
              "array([[ 0.,  1.,  2.,  3.],\n",
              "       [10., 11., 12., 13.]])"
            ]
          },
          "metadata": {
            "tags": []
          },
          "execution_count": 29
        }
      ]
    },
    {
      "cell_type": "markdown",
      "metadata": {
        "id": "5rQ7FHADVk_e",
        "colab_type": "text"
      },
      "source": [
        "###Create an an array counting from 1 to 20 inclusive."
      ]
    },
    {
      "cell_type": "code",
      "metadata": {
        "id": "gLLVhBDMVn6n",
        "colab_type": "code",
        "colab": {
          "base_uri": "https://localhost:8080/",
          "height": 52
        },
        "outputId": "c4847528-f333-4e33-e288-95e054cd3045"
      },
      "source": [
        "a = np.arange(1,21)\n",
        "a"
      ],
      "execution_count": 30,
      "outputs": [
        {
          "output_type": "execute_result",
          "data": {
            "text/plain": [
              "array([ 1,  2,  3,  4,  5,  6,  7,  8,  9, 10, 11, 12, 13, 14, 15, 16, 17,\n",
              "       18, 19, 20])"
            ]
          },
          "metadata": {
            "tags": []
          },
          "execution_count": 30
        }
      ]
    },
    {
      "cell_type": "markdown",
      "metadata": {
        "id": "Uvcp9J-rVuqD",
        "colab_type": "text"
      },
      "source": [
        "###The array of multiples of 3 greater than 0 and less than 30."
      ]
    },
    {
      "cell_type": "code",
      "metadata": {
        "id": "CHtkMG01V0J3",
        "colab_type": "code",
        "colab": {
          "base_uri": "https://localhost:8080/",
          "height": 34
        },
        "outputId": "522fa5fd-e46f-47a8-f400-89817981a580"
      },
      "source": [
        "a = np.arange(0,31,3)\n",
        "a"
      ],
      "execution_count": 31,
      "outputs": [
        {
          "output_type": "execute_result",
          "data": {
            "text/plain": [
              "array([ 0,  3,  6,  9, 12, 15, 18, 21, 24, 27, 30])"
            ]
          },
          "metadata": {
            "tags": []
          },
          "execution_count": 31
        }
      ]
    },
    {
      "cell_type": "markdown",
      "metadata": {
        "id": "Pr3fzGlkV-6z",
        "colab_type": "text"
      },
      "source": [
        "###The array of 8 equally spaced floats x where 0 ≤ x ≤ 1."
      ]
    },
    {
      "cell_type": "code",
      "metadata": {
        "id": "rPfoYl2eWBDq",
        "colab_type": "code",
        "colab": {
          "base_uri": "https://localhost:8080/",
          "height": 52
        },
        "outputId": "9c5cb976-9f7b-43f4-ff85-dbd3ebe25d24"
      },
      "source": [
        "a = np.linspace(0,1,8)\n",
        "a"
      ],
      "execution_count": 33,
      "outputs": [
        {
          "output_type": "execute_result",
          "data": {
            "text/plain": [
              "array([0.        , 0.14285714, 0.28571429, 0.42857143, 0.57142857,\n",
              "       0.71428571, 0.85714286, 1.        ])"
            ]
          },
          "metadata": {
            "tags": []
          },
          "execution_count": 33
        }
      ]
    },
    {
      "cell_type": "markdown",
      "metadata": {
        "id": "tSNHEflEWcUT",
        "colab_type": "text"
      },
      "source": [
        "###Use np.arange and reshape to create the array A = [[1 2 3 4] [5 6 7 8]]"
      ]
    },
    {
      "cell_type": "code",
      "metadata": {
        "id": "q7U9Mw6WWd-k",
        "colab_type": "code",
        "colab": {
          "base_uri": "https://localhost:8080/",
          "height": 52
        },
        "outputId": "b51bacd1-2892-45eb-aa0a-b3eb8ace9a97"
      },
      "source": [
        "a = np.arange(1, 9).reshape(2,4)\n",
        "a"
      ],
      "execution_count": 34,
      "outputs": [
        {
          "output_type": "execute_result",
          "data": {
            "text/plain": [
              "array([[1, 2, 3, 4],\n",
              "       [5, 6, 7, 8]])"
            ]
          },
          "metadata": {
            "tags": []
          },
          "execution_count": 34
        }
      ]
    },
    {
      "cell_type": "markdown",
      "metadata": {
        "id": "4ftxLEfZWsRA",
        "colab_type": "text"
      },
      "source": [
        "###Use np.array to create the array B = [1 2]"
      ]
    },
    {
      "cell_type": "code",
      "metadata": {
        "id": "1FBIAhAcWyrt",
        "colab_type": "code",
        "colab": {
          "base_uri": "https://localhost:8080/",
          "height": 34
        },
        "outputId": "7a7881ff-9969-4d6f-bf49-61c1a5a04ed4"
      },
      "source": [
        "a = np.array([1,2])\n",
        "a"
      ],
      "execution_count": 35,
      "outputs": [
        {
          "output_type": "execute_result",
          "data": {
            "text/plain": [
              "array([1, 2])"
            ]
          },
          "metadata": {
            "tags": []
          },
          "execution_count": 35
        }
      ]
    },
    {
      "cell_type": "markdown",
      "metadata": {
        "id": "ZLFB-vciW5eJ",
        "colab_type": "text"
      },
      "source": [
        "###Use broadcasting to add B to A to create the final array A + B"
      ]
    },
    {
      "cell_type": "code",
      "metadata": {
        "id": "A8lJNGIbW7Eq",
        "colab_type": "code",
        "colab": {
          "base_uri": "https://localhost:8080/",
          "height": 70
        },
        "outputId": "a3046d86-60b9-4c2b-e5e2-1b4238af66be"
      },
      "source": [
        "b = np.array([[2,3],[4,5],[7,8]])\n",
        "a, b = np.broadcast_arrays(a,b)\n",
        "c = a + b\n",
        "c"
      ],
      "execution_count": 42,
      "outputs": [
        {
          "output_type": "execute_result",
          "data": {
            "text/plain": [
              "array([[ 3,  5],\n",
              "       [ 5,  7],\n",
              "       [ 8, 10]])"
            ]
          },
          "metadata": {
            "tags": []
          },
          "execution_count": 42
        }
      ]
    }
  ]
}