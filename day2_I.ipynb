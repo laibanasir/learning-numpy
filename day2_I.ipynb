{
  "nbformat": 4,
  "nbformat_minor": 0,
  "metadata": {
    "colab": {
      "name": "day2 I.ipynb",
      "provenance": [],
      "collapsed_sections": []
    },
    "kernelspec": {
      "name": "python3",
      "display_name": "Python 3"
    }
  },
  "cells": [
    {
      "cell_type": "code",
      "metadata": {
        "id": "JC3LVM94S6nu",
        "colab_type": "code",
        "colab": {}
      },
      "source": [
        "import numpy as np"
      ],
      "execution_count": 0,
      "outputs": []
    },
    {
      "cell_type": "markdown",
      "metadata": {
        "id": "j5szXsgVaiqC",
        "colab_type": "text"
      },
      "source": [
        "###indexing & slicing"
      ]
    },
    {
      "cell_type": "code",
      "metadata": {
        "id": "tXKW5T9lX9U7",
        "colab_type": "code",
        "outputId": "8f574b1e-25c9-4b5d-a371-2940607ee8e2",
        "colab": {
          "base_uri": "https://localhost:8080/",
          "height": 122
        }
      },
      "source": [
        "arr3 = np.arange(1,37).reshape(6,6)\n",
        "arr3"
      ],
      "execution_count": 0,
      "outputs": [
        {
          "output_type": "execute_result",
          "data": {
            "text/plain": [
              "array([[ 1,  2,  3,  4,  5,  6],\n",
              "       [ 7,  8,  9, 10, 11, 12],\n",
              "       [13, 14, 15, 16, 17, 18],\n",
              "       [19, 20, 21, 22, 23, 24],\n",
              "       [25, 26, 27, 28, 29, 30],\n",
              "       [31, 32, 33, 34, 35, 36]])"
            ]
          },
          "metadata": {
            "tags": []
          },
          "execution_count": 16
        }
      ]
    },
    {
      "cell_type": "code",
      "metadata": {
        "id": "JmqnhP4cbCnO",
        "colab_type": "code",
        "outputId": "a473fdb1-0ec3-4124-f211-ad467d9b8139",
        "colab": {
          "base_uri": "https://localhost:8080/",
          "height": 34
        }
      },
      "source": [
        "arr3[2:3:,0:]      #[row, col]"
      ],
      "execution_count": 0,
      "outputs": [
        {
          "output_type": "execute_result",
          "data": {
            "text/plain": [
              "array([[13, 14, 15, 16, 17, 18]])"
            ]
          },
          "metadata": {
            "tags": []
          },
          "execution_count": 23
        }
      ]
    },
    {
      "cell_type": "code",
      "metadata": {
        "id": "HmHjUljIYEkv",
        "colab_type": "code",
        "outputId": "e230d81d-1e57-4100-b85a-faa8df662418",
        "colab": {
          "base_uri": "https://localhost:8080/",
          "height": 52
        }
      },
      "source": [
        "arr3[2:4,3:5]      #[row, col]"
      ],
      "execution_count": 0,
      "outputs": [
        {
          "output_type": "execute_result",
          "data": {
            "text/plain": [
              "array([[16, 17],\n",
              "       [22, 23]])"
            ]
          },
          "metadata": {
            "tags": []
          },
          "execution_count": 21
        }
      ]
    },
    {
      "cell_type": "code",
      "metadata": {
        "id": "-watqt7ubrNE",
        "colab_type": "code",
        "outputId": "2b6f5583-18d0-431a-b094-3f3698ec1239",
        "colab": {
          "base_uri": "https://localhost:8080/",
          "height": 34
        }
      },
      "source": [
        "arr3[4:5,:]        # : , 0 : , nothing (selects all) arr3[4], arr3[4,0:], arr3[4,:]"
      ],
      "execution_count": 0,
      "outputs": [
        {
          "output_type": "execute_result",
          "data": {
            "text/plain": [
              "array([[25, 26, 27, 28, 29, 30]])"
            ]
          },
          "metadata": {
            "tags": []
          },
          "execution_count": 26
        }
      ]
    },
    {
      "cell_type": "code",
      "metadata": {
        "id": "cWwdzOd6c5cg",
        "colab_type": "code",
        "outputId": "db031fc7-8711-4a8d-a852-5c5129a9a329",
        "colab": {
          "base_uri": "https://localhost:8080/",
          "height": 87
        }
      },
      "source": [
        "arr3[1:5,]"
      ],
      "execution_count": 0,
      "outputs": [
        {
          "output_type": "execute_result",
          "data": {
            "text/plain": [
              "array([[ 7,  8,  9, 10, 11, 12],\n",
              "       [13, 14, 15, 16, 17, 18],\n",
              "       [19, 20, 21, 22, 23, 24],\n",
              "       [25, 26, 27, 28, 29, 30]])"
            ]
          },
          "metadata": {
            "tags": []
          },
          "execution_count": 28
        }
      ]
    },
    {
      "cell_type": "code",
      "metadata": {
        "id": "-CsQ8IwDdRZC",
        "colab_type": "code",
        "outputId": "0e90777e-7f0f-42cc-a3d1-447e27b3781c",
        "colab": {
          "base_uri": "https://localhost:8080/",
          "height": 34
        }
      },
      "source": [
        "arr3[2:4,5]"
      ],
      "execution_count": 0,
      "outputs": [
        {
          "output_type": "execute_result",
          "data": {
            "text/plain": [
              "array([18, 24])"
            ]
          },
          "metadata": {
            "tags": []
          },
          "execution_count": 30
        }
      ]
    },
    {
      "cell_type": "code",
      "metadata": {
        "id": "FNeT-y_oe1is",
        "colab_type": "code",
        "outputId": "7c9cf8ed-6c45-4878-a844-379a57eaf62a",
        "colab": {
          "base_uri": "https://localhost:8080/",
          "height": 70
        }
      },
      "source": [
        "arr3[2:5,5:]"
      ],
      "execution_count": 0,
      "outputs": [
        {
          "output_type": "execute_result",
          "data": {
            "text/plain": [
              "array([[18],\n",
              "       [24],\n",
              "       [30]])"
            ]
          },
          "metadata": {
            "tags": []
          },
          "execution_count": 31
        }
      ]
    },
    {
      "cell_type": "code",
      "metadata": {
        "id": "tJRkt1jAe4CW",
        "colab_type": "code",
        "outputId": "cb0ee473-63d6-4bf1-fe73-6d15b53cec9f",
        "colab": {
          "base_uri": "https://localhost:8080/",
          "height": 122
        }
      },
      "source": [
        "arr3"
      ],
      "execution_count": 0,
      "outputs": [
        {
          "output_type": "execute_result",
          "data": {
            "text/plain": [
              "array([[ 1,  2,  3,  4,  5,  6],\n",
              "       [ 7,  8,  9, 10, 11, 12],\n",
              "       [13, 14, 15, 16, 17, 18],\n",
              "       [19, 20, 21, 22, 23, 24],\n",
              "       [25, 26, 27, 28, 29, 30],\n",
              "       [31, 32, 33, 34, 35, 36]])"
            ]
          },
          "metadata": {
            "tags": []
          },
          "execution_count": 32
        }
      ]
    },
    {
      "cell_type": "code",
      "metadata": {
        "id": "Ev-3EkH4e7m-",
        "colab_type": "code",
        "outputId": "a3dec400-a971-460b-cd6b-fcd74505eb46",
        "colab": {
          "base_uri": "https://localhost:8080/",
          "height": 122
        }
      },
      "source": [
        "arr3[0:,0::2]"
      ],
      "execution_count": 0,
      "outputs": [
        {
          "output_type": "execute_result",
          "data": {
            "text/plain": [
              "array([[ 1,  3,  5],\n",
              "       [ 7,  9, 11],\n",
              "       [13, 15, 17],\n",
              "       [19, 21, 23],\n",
              "       [25, 27, 29],\n",
              "       [31, 33, 35]])"
            ]
          },
          "metadata": {
            "tags": []
          },
          "execution_count": 35
        }
      ]
    },
    {
      "cell_type": "code",
      "metadata": {
        "id": "-c3cxjo0fOIu",
        "colab_type": "code",
        "outputId": "a344843c-b4e2-45a5-a986-dff637bd014e",
        "colab": {
          "base_uri": "https://localhost:8080/",
          "height": 122
        }
      },
      "source": [
        "arr3[0:,::-2]"
      ],
      "execution_count": 0,
      "outputs": [
        {
          "output_type": "execute_result",
          "data": {
            "text/plain": [
              "array([[ 6,  4,  2],\n",
              "       [12, 10,  8],\n",
              "       [18, 16, 14],\n",
              "       [24, 22, 20],\n",
              "       [30, 28, 26],\n",
              "       [36, 34, 32]])"
            ]
          },
          "metadata": {
            "tags": []
          },
          "execution_count": 37
        }
      ]
    },
    {
      "cell_type": "code",
      "metadata": {
        "id": "LckEOGngfclz",
        "colab_type": "code",
        "outputId": "e2f7df36-476c-4ac1-ffa7-c8710527a1c5",
        "colab": {
          "base_uri": "https://localhost:8080/",
          "height": 70
        }
      },
      "source": [
        "arr3[::2,:]"
      ],
      "execution_count": 0,
      "outputs": [
        {
          "output_type": "execute_result",
          "data": {
            "text/plain": [
              "array([[ 1,  2,  3,  4,  5,  6],\n",
              "       [13, 14, 15, 16, 17, 18],\n",
              "       [25, 26, 27, 28, 29, 30]])"
            ]
          },
          "metadata": {
            "tags": []
          },
          "execution_count": 38
        }
      ]
    },
    {
      "cell_type": "markdown",
      "metadata": {
        "id": "UUt8Y-CFcydD",
        "colab_type": "text"
      },
      "source": [
        "###boolean indexing "
      ]
    },
    {
      "cell_type": "code",
      "metadata": {
        "id": "nNbMsIktgnHI",
        "colab_type": "code",
        "outputId": "5b7abcb9-1837-43b6-ffac-2a8d93c12ca4",
        "colab": {
          "base_uri": "https://localhost:8080/",
          "height": 158
        }
      },
      "source": [
        "names = np.array(['roma','lyma','sera','susu','leej','lyma', 'leej'])\n",
        "data = np.random.randn(7,4)\n",
        "print(names)\n",
        "print(data)"
      ],
      "execution_count": 0,
      "outputs": [
        {
          "output_type": "stream",
          "text": [
            "['roma' 'lyma' 'sera' 'susu' 'leej' 'lyma' 'leej']\n",
            "[[ 1.40500325 -2.25073847  1.70505324 -0.03463434]\n",
            " [-1.45272535 -0.40570084 -0.09009913 -0.26355054]\n",
            " [ 1.27845805 -1.36336452 -0.14709344 -0.21374081]\n",
            " [ 1.38034108 -1.65049728 -0.4433567  -0.0409417 ]\n",
            " [ 1.18827911  0.35307082  0.63250205 -0.6600096 ]\n",
            " [-1.20617486 -3.67583432  0.20262845  0.21004343]\n",
            " [ 0.36577136 -1.02514872  0.69842739 -0.11017165]]\n"
          ],
          "name": "stdout"
        }
      ]
    },
    {
      "cell_type": "code",
      "metadata": {
        "id": "7iyDO5NskBuC",
        "colab_type": "code",
        "outputId": "31da9636-584f-4a92-952e-8b87d7182c42",
        "colab": {
          "base_uri": "https://localhost:8080/",
          "height": 52
        }
      },
      "source": [
        "bol = np.array([False, True, False, True, False, False, False], dtype = 'bool')\n",
        "data[bol] #true will show up, false will not"
      ],
      "execution_count": 0,
      "outputs": [
        {
          "output_type": "execute_result",
          "data": {
            "text/plain": [
              "array([[ 0.27109282, -2.36146514, -0.31760727,  0.62416178],\n",
              "       [-0.03020178,  2.03947358,  1.90643982, -0.55478396]])"
            ]
          },
          "metadata": {
            "tags": []
          },
          "execution_count": 62
        }
      ]
    },
    {
      "cell_type": "code",
      "metadata": {
        "id": "svkXKKnhhmuS",
        "colab_type": "code",
        "outputId": "464afa1e-955c-4abb-f7d2-b60888a4f195",
        "colab": {
          "base_uri": "https://localhost:8080/",
          "height": 34
        }
      },
      "source": [
        "names != 'lyma'            #to get boolean positions"
      ],
      "execution_count": 0,
      "outputs": [
        {
          "output_type": "execute_result",
          "data": {
            "text/plain": [
              "array([ True, False,  True,  True,  True, False])"
            ]
          },
          "metadata": {
            "tags": []
          },
          "execution_count": 63
        }
      ]
    },
    {
      "cell_type": "code",
      "metadata": {
        "id": "shYbkrzVhqyC",
        "colab_type": "code",
        "outputId": "e20cb7b2-6eef-495a-ce19-085598dc04e8",
        "colab": {
          "base_uri": "https://localhost:8080/",
          "height": 140
        }
      },
      "source": [
        "data > 1                   #to get boolean positions"
      ],
      "execution_count": 0,
      "outputs": [
        {
          "output_type": "execute_result",
          "data": {
            "text/plain": [
              "array([[False, False, False, False],\n",
              "       [False, False, False, False],\n",
              "       [False, False, False, False],\n",
              "       [False, False,  True, False],\n",
              "       [False, False, False, False],\n",
              "       [False, False,  True,  True],\n",
              "       [False, False, False, False]])"
            ]
          },
          "metadata": {
            "tags": []
          },
          "execution_count": 46
        }
      ]
    },
    {
      "cell_type": "code",
      "metadata": {
        "id": "rm7-MjxHion9",
        "colab_type": "code",
        "outputId": "2944e3a0-b596-4107-c487-7492e547c123",
        "colab": {
          "base_uri": "https://localhost:8080/",
          "height": 34
        }
      },
      "source": [
        "data[False,  True, False, False, False,  True]"
      ],
      "execution_count": 0,
      "outputs": [
        {
          "output_type": "execute_result",
          "data": {
            "text/plain": [
              "array([], shape=(0, 7, 4), dtype=float64)"
            ]
          },
          "metadata": {
            "tags": []
          },
          "execution_count": 55
        }
      ]
    },
    {
      "cell_type": "code",
      "metadata": {
        "id": "yG2oMbCyh3oX",
        "colab_type": "code",
        "outputId": "4968c847-a7c7-4263-b587-0c8908d72f69",
        "colab": {
          "base_uri": "https://localhost:8080/",
          "height": 34
        }
      },
      "source": [
        "data[data > 1]               #to get exact values"
      ],
      "execution_count": 0,
      "outputs": [
        {
          "output_type": "execute_result",
          "data": {
            "text/plain": [
              "array([1.27288451, 1.45233595, 1.80865839])"
            ]
          },
          "metadata": {
            "tags": []
          },
          "execution_count": 48
        }
      ]
    },
    {
      "cell_type": "code",
      "metadata": {
        "id": "RJbnoVbuh88O",
        "colab_type": "code",
        "outputId": "4c5094aa-022f-4058-ecf5-2682349ee9c9",
        "colab": {
          "base_uri": "https://localhost:8080/",
          "height": 34
        }
      },
      "source": [
        "names[names == 'lyma']       #to get exact values"
      ],
      "execution_count": 0,
      "outputs": [
        {
          "output_type": "execute_result",
          "data": {
            "text/plain": [
              "array(['lyma'], dtype='<U4')"
            ]
          },
          "metadata": {
            "tags": []
          },
          "execution_count": 50
        }
      ]
    },
    {
      "cell_type": "code",
      "metadata": {
        "id": "znqSsjLPp2rg",
        "colab_type": "code",
        "outputId": "b72f0dc3-d041-4cda-e846-f36de20110b1",
        "colab": {
          "base_uri": "https://localhost:8080/",
          "height": 52
        }
      },
      "source": [
        "condition = names!= 'lyma'\n",
        "data[~condition]               #nagation"
      ],
      "execution_count": 0,
      "outputs": [
        {
          "output_type": "execute_result",
          "data": {
            "text/plain": [
              "array([[-1.45272535, -0.40570084, -0.09009913, -0.26355054],\n",
              "       [-1.20617486, -3.67583432,  0.20262845,  0.21004343]])"
            ]
          },
          "metadata": {
            "tags": []
          },
          "execution_count": 66
        }
      ]
    },
    {
      "cell_type": "code",
      "metadata": {
        "id": "UFpwegusqasK",
        "colab_type": "code",
        "outputId": "35139cf8-08e0-4e58-f2f9-9ca77a0b2b91",
        "colab": {
          "base_uri": "https://localhost:8080/",
          "height": 246
        }
      },
      "source": [
        "#condition = names!= 'lyma'\n",
        "print(condition)\n",
        "data = np.arange(28).reshape(7,4)\n",
        "print(data)\n",
        "data[condition,1:3]                #[condition = row, col] slicing"
      ],
      "execution_count": 0,
      "outputs": [
        {
          "output_type": "stream",
          "text": [
            "[ True False  True  True  True False  True]\n",
            "[[ 0  1  2  3]\n",
            " [ 4  5  6  7]\n",
            " [ 8  9 10 11]\n",
            " [12 13 14 15]\n",
            " [16 17 18 19]\n",
            " [20 21 22 23]\n",
            " [24 25 26 27]]\n"
          ],
          "name": "stdout"
        },
        {
          "output_type": "execute_result",
          "data": {
            "text/plain": [
              "array([[ 1,  2],\n",
              "       [ 9, 10],\n",
              "       [13, 14],\n",
              "       [17, 18],\n",
              "       [25, 26]])"
            ]
          },
          "metadata": {
            "tags": []
          },
          "execution_count": 72
        }
      ]
    },
    {
      "cell_type": "code",
      "metadata": {
        "id": "fRQH61grq4jN",
        "colab_type": "code",
        "outputId": "37fd5ba1-f703-4e00-9389-cfdaaf87ed67",
        "colab": {
          "base_uri": "https://localhost:8080/",
          "height": 105
        }
      },
      "source": [
        "data[condition,1:4]       #[condition = row, col] slicing"
      ],
      "execution_count": 0,
      "outputs": [
        {
          "output_type": "execute_result",
          "data": {
            "text/plain": [
              "array([[ 1,  2,  3],\n",
              "       [ 9, 10, 11],\n",
              "       [13, 14, 15],\n",
              "       [17, 18, 19],\n",
              "       [25, 26, 27]])"
            ]
          },
          "metadata": {
            "tags": []
          },
          "execution_count": 71
        }
      ]
    },
    {
      "cell_type": "markdown",
      "metadata": {
        "id": "Jk4TphaTtdei",
        "colab_type": "text"
      },
      "source": [
        "###Multiple conditions in boolean indexing\n",
        "& for and\n",
        "| for or"
      ]
    },
    {
      "cell_type": "code",
      "metadata": {
        "id": "fDFcJNYwtqU2",
        "colab_type": "code",
        "outputId": "b9a3ec89-365a-46a3-f37f-a5e18611e3eb",
        "colab": {
          "base_uri": "https://localhost:8080/",
          "height": 70
        }
      },
      "source": [
        "cond = (names == 'lyma') | (names == 'roma')\n",
        "data[cond]"
      ],
      "execution_count": 0,
      "outputs": [
        {
          "output_type": "execute_result",
          "data": {
            "text/plain": [
              "array([[ 0,  1,  2,  3],\n",
              "       [ 4,  5,  6,  7],\n",
              "       [20, 21, 22, 23]])"
            ]
          },
          "metadata": {
            "tags": []
          },
          "execution_count": 76
        }
      ]
    },
    {
      "cell_type": "markdown",
      "metadata": {
        "id": "IbWSl3K4unVg",
        "colab_type": "text"
      },
      "source": [
        "###Fancy indexing"
      ]
    },
    {
      "cell_type": "code",
      "metadata": {
        "id": "1sVA5-KWupvz",
        "colab_type": "code",
        "outputId": "60527b3c-a88f-4c4e-8c61-877a441d8d87",
        "colab": {
          "base_uri": "https://localhost:8080/",
          "height": 158
        }
      },
      "source": [
        "arr = np.empty((8,4))\n",
        "for i in range(8):\n",
        "  arr[i] = i\n",
        "arr"
      ],
      "execution_count": 0,
      "outputs": [
        {
          "output_type": "execute_result",
          "data": {
            "text/plain": [
              "array([[0., 0., 0., 0.],\n",
              "       [1., 1., 1., 1.],\n",
              "       [2., 2., 2., 2.],\n",
              "       [3., 3., 3., 3.],\n",
              "       [4., 4., 4., 4.],\n",
              "       [5., 5., 5., 5.],\n",
              "       [6., 6., 6., 6.],\n",
              "       [7., 7., 7., 7.]])"
            ]
          },
          "metadata": {
            "tags": []
          },
          "execution_count": 87
        }
      ]
    },
    {
      "cell_type": "code",
      "metadata": {
        "id": "dSc8V0vdwPU3",
        "colab_type": "code",
        "outputId": "d56905cb-8d95-4372-c86c-4dae77d613fd",
        "colab": {
          "base_uri": "https://localhost:8080/",
          "height": 70
        }
      },
      "source": [
        "arr[[4,0,2]]    #desired rows "
      ],
      "execution_count": 0,
      "outputs": [
        {
          "output_type": "execute_result",
          "data": {
            "text/plain": [
              "array([[4., 4., 4., 4.],\n",
              "       [0., 0., 0., 0.],\n",
              "       [2., 2., 2., 2.]])"
            ]
          },
          "metadata": {
            "tags": []
          },
          "execution_count": 82
        }
      ]
    },
    {
      "cell_type": "code",
      "metadata": {
        "id": "nXpRZeouwRLb",
        "colab_type": "code",
        "outputId": "d1612c30-a0ce-4d36-edbe-8153ca2e9233",
        "colab": {
          "base_uri": "https://localhost:8080/",
          "height": 34
        }
      },
      "source": [
        "arr[[2,0,1],[2,3,1]]      #ordered pairs (2,2),(0,3),(1,1)\n"
      ],
      "execution_count": 0,
      "outputs": [
        {
          "output_type": "execute_result",
          "data": {
            "text/plain": [
              "array([2., 0., 1.])"
            ]
          },
          "metadata": {
            "tags": []
          },
          "execution_count": 88
        }
      ]
    },
    {
      "cell_type": "code",
      "metadata": {
        "id": "uxvhSB_qxGlG",
        "colab_type": "code",
        "outputId": "f1c7b14c-1417-4741-de00-1f0d8f4c410e",
        "colab": {
          "base_uri": "https://localhost:8080/",
          "height": 34
        }
      },
      "source": [
        "arr[[2,3,5,7],[0,3,2,1]]\n",
        "#(2,0) (3,3) (5,2) (7,1)"
      ],
      "execution_count": 0,
      "outputs": [
        {
          "output_type": "execute_result",
          "data": {
            "text/plain": [
              "array([2., 3., 5., 7.])"
            ]
          },
          "metadata": {
            "tags": []
          },
          "execution_count": 89
        }
      ]
    },
    {
      "cell_type": "code",
      "metadata": {
        "id": "aMEnu_hDx-jX",
        "colab_type": "code",
        "outputId": "66c610d8-b1c5-48e5-bca6-87fd95ca4e11",
        "colab": {
          "base_uri": "https://localhost:8080/",
          "height": 87
        }
      },
      "source": [
        "arr[[1,5,7,4]][:,[0,3,1,2]]\n",
        "#1[0,3,1,2],5[0,3,1,2],7[0,3,1,2],4[0,3,1,2]\n",
        "#(1,0)(1,3)(1,1)(1,2),(5,0)(5,3)(5,1)(5,2),(7,0)(7,3)(7,1)(7,2),(4,0)(4,3)(4,1)(4,2)"
      ],
      "execution_count": 0,
      "outputs": [
        {
          "output_type": "execute_result",
          "data": {
            "text/plain": [
              "array([[1., 1., 1., 1.],\n",
              "       [5., 5., 5., 5.],\n",
              "       [7., 7., 7., 7.],\n",
              "       [4., 4., 4., 4.]])"
            ]
          },
          "metadata": {
            "tags": []
          },
          "execution_count": 90
        }
      ]
    },
    {
      "cell_type": "code",
      "metadata": {
        "id": "ZORN_X52yxQo",
        "colab_type": "code",
        "outputId": "bdf72431-5163-4717-a91b-5c2b6dcac0d0",
        "colab": {
          "base_uri": "https://localhost:8080/",
          "height": 228
        }
      },
      "source": [
        "arr2 = np.arange(32).reshape(8,4)\n",
        "print(arr2)\n",
        "arr2[[1,5,7,4]][:,[0,3,1,2]]\n",
        "#1[0,3,1,2],5[0,3,1,2],7[0,3,1,2],4[0,3,1,2]\n",
        "#(1,0)(1,3)(1,1)(1,2),(5,0)(5,3)(5,1)(5,2),(7,0)(7,3)(7,1)(7,2),(4,0)(4,3)(4,1)(4,2)"
      ],
      "execution_count": 0,
      "outputs": [
        {
          "output_type": "stream",
          "text": [
            "[[ 0  1  2  3]\n",
            " [ 4  5  6  7]\n",
            " [ 8  9 10 11]\n",
            " [12 13 14 15]\n",
            " [16 17 18 19]\n",
            " [20 21 22 23]\n",
            " [24 25 26 27]\n",
            " [28 29 30 31]]\n"
          ],
          "name": "stdout"
        },
        {
          "output_type": "execute_result",
          "data": {
            "text/plain": [
              "array([[ 4,  7,  5,  6],\n",
              "       [20, 23, 21, 22],\n",
              "       [28, 31, 29, 30],\n",
              "       [16, 19, 17, 18]])"
            ]
          },
          "metadata": {
            "tags": []
          },
          "execution_count": 91
        }
      ]
    },
    {
      "cell_type": "markdown",
      "metadata": {
        "id": "hc7Vm9ubz0I9",
        "colab_type": "text"
      },
      "source": [
        "###Transpose"
      ]
    },
    {
      "cell_type": "code",
      "metadata": {
        "id": "ToATRfmzztuP",
        "colab_type": "code",
        "outputId": "0d2f6877-497d-4da9-a638-b65310e51989",
        "colab": {
          "base_uri": "https://localhost:8080/",
          "height": 87
        }
      },
      "source": [
        "#way 1\n",
        "arr.T"
      ],
      "execution_count": 0,
      "outputs": [
        {
          "output_type": "execute_result",
          "data": {
            "text/plain": [
              "array([[0., 1., 2., 3., 4., 5., 6., 7.],\n",
              "       [0., 1., 2., 3., 4., 5., 6., 7.],\n",
              "       [0., 1., 2., 3., 4., 5., 6., 7.],\n",
              "       [0., 1., 2., 3., 4., 5., 6., 7.]])"
            ]
          },
          "metadata": {
            "tags": []
          },
          "execution_count": 92
        }
      ]
    },
    {
      "cell_type": "code",
      "metadata": {
        "id": "jKeTQSmWz3RM",
        "colab_type": "code",
        "outputId": "9f98fa5c-8b09-4a20-8e13-ac087c5884b1",
        "colab": {
          "base_uri": "https://localhost:8080/",
          "height": 87
        }
      },
      "source": [
        "#way 2\n",
        "arr.transpose()"
      ],
      "execution_count": 0,
      "outputs": [
        {
          "output_type": "execute_result",
          "data": {
            "text/plain": [
              "array([[0., 1., 2., 3., 4., 5., 6., 7.],\n",
              "       [0., 1., 2., 3., 4., 5., 6., 7.],\n",
              "       [0., 1., 2., 3., 4., 5., 6., 7.],\n",
              "       [0., 1., 2., 3., 4., 5., 6., 7.]])"
            ]
          },
          "metadata": {
            "tags": []
          },
          "execution_count": 94
        }
      ]
    },
    {
      "cell_type": "markdown",
      "metadata": {
        "id": "Y_nKJaq50bog",
        "colab_type": "text"
      },
      "source": [
        "###maximum, min, mean, standard deviation"
      ]
    },
    {
      "cell_type": "code",
      "metadata": {
        "id": "FbAi7Gp31Yd9",
        "colab_type": "code",
        "colab": {}
      },
      "source": [
        ""
      ],
      "execution_count": 0,
      "outputs": []
    },
    {
      "cell_type": "markdown",
      "metadata": {
        "id": "JKdYxuWR1Y7z",
        "colab_type": "text"
      },
      "source": [
        "###Bol funcs"
      ]
    },
    {
      "cell_type": "code",
      "metadata": {
        "id": "yGAi0Yn_2JOC",
        "colab_type": "code",
        "colab": {}
      },
      "source": [
        "bools = np.array([False, False, True, True])"
      ],
      "execution_count": 0,
      "outputs": []
    },
    {
      "cell_type": "code",
      "metadata": {
        "id": "RSr8c9PP2UE1",
        "colab_type": "code",
        "outputId": "e1eab18c-961f-4cfa-a37c-37ec144d6a59",
        "colab": {
          "base_uri": "https://localhost:8080/",
          "height": 34
        }
      },
      "source": [
        "bools.any() #returns true if any val is true"
      ],
      "execution_count": 0,
      "outputs": [
        {
          "output_type": "execute_result",
          "data": {
            "text/plain": [
              "True"
            ]
          },
          "metadata": {
            "tags": []
          },
          "execution_count": 98
        }
      ]
    },
    {
      "cell_type": "code",
      "metadata": {
        "id": "cefve4Gs2Y_6",
        "colab_type": "code",
        "outputId": "067a64d8-9ce0-4ca7-99e7-993f04a2a03f",
        "colab": {
          "base_uri": "https://localhost:8080/",
          "height": 34
        }
      },
      "source": [
        "bools.all() #returns true if all vals are true"
      ],
      "execution_count": 0,
      "outputs": [
        {
          "output_type": "execute_result",
          "data": {
            "text/plain": [
              "False"
            ]
          },
          "metadata": {
            "tags": []
          },
          "execution_count": 99
        }
      ]
    },
    {
      "cell_type": "markdown",
      "metadata": {
        "id": "eEaZdv2K2kwE",
        "colab_type": "text"
      },
      "source": [
        "\n",
        "\n",
        "###Sort, Set, Unique\n"
      ]
    },
    {
      "cell_type": "code",
      "metadata": {
        "id": "07-6hpMW2onh",
        "colab_type": "code",
        "outputId": "97146785-2775-4f4f-af3d-1872e008335e",
        "colab": {
          "base_uri": "https://localhost:8080/",
          "height": 34
        }
      },
      "source": [
        "arr3 = np.array([7,8,5,2,1,4,5,6,6,5,4,3,1,4])\n",
        "set(arr3)         #returns unique vals"
      ],
      "execution_count": 0,
      "outputs": [
        {
          "output_type": "execute_result",
          "data": {
            "text/plain": [
              "{1, 2, 3, 4, 5, 6, 7, 8}"
            ]
          },
          "metadata": {
            "tags": []
          },
          "execution_count": 102
        }
      ]
    },
    {
      "cell_type": "code",
      "metadata": {
        "id": "0R9gX0s421la",
        "colab_type": "code",
        "outputId": "1eabd39c-0805-48a9-833e-a2ce0adc18e5",
        "colab": {
          "base_uri": "https://localhost:8080/",
          "height": 34
        }
      },
      "source": [
        "arr3.sort()\n",
        "arr3"
      ],
      "execution_count": 0,
      "outputs": [
        {
          "output_type": "execute_result",
          "data": {
            "text/plain": [
              "array([1, 1, 2, 3, 4, 4, 4, 5, 5, 5, 6, 6, 7, 8])"
            ]
          },
          "metadata": {
            "tags": []
          },
          "execution_count": 108
        }
      ]
    },
    {
      "cell_type": "code",
      "metadata": {
        "id": "Lhe6MY2r3JUJ",
        "colab_type": "code",
        "outputId": "cffc1b5d-82c2-4519-b0db-eef94422fe75",
        "colab": {
          "base_uri": "https://localhost:8080/",
          "height": 34
        }
      },
      "source": [
        "np.unique(arr3)"
      ],
      "execution_count": 0,
      "outputs": [
        {
          "output_type": "execute_result",
          "data": {
            "text/plain": [
              "array([1, 2, 3, 4, 5, 6, 7, 8])"
            ]
          },
          "metadata": {
            "tags": []
          },
          "execution_count": 109
        }
      ]
    },
    {
      "cell_type": "markdown",
      "metadata": {
        "id": "1mxA89AQ3Olt",
        "colab_type": "text"
      },
      "source": [
        "#File Input & Output with arrays"
      ]
    },
    {
      "cell_type": "code",
      "metadata": {
        "id": "VV-Og7-I3VR0",
        "colab_type": "code",
        "colab": {}
      },
      "source": [
        "arr = np.arange(20)\n",
        "brr = np.arange(30)\n",
        "np.save('some_arr', arr)     #to save\n",
        "np.load('some_arr.npy')      #to load\n",
        "#more than one files\n",
        "np.savez('array_archive.npz', a =arr, b=brr)\n",
        "np.load('array_archive.npz')\n",
        "arch['b']                    #show b"
      ],
      "execution_count": 0,
      "outputs": []
    },
    {
      "cell_type": "markdown",
      "metadata": {
        "id": "f2kJC_A54GdJ",
        "colab_type": "text"
      },
      "source": [
        "##Linear Algebra\n",
        "###inverse and qr (decomposition)"
      ]
    },
    {
      "cell_type": "code",
      "metadata": {
        "id": "6sHn1RwE4MRj",
        "colab_type": "code",
        "colab": {}
      },
      "source": [
        "from numpy.linalg import inv, qr"
      ],
      "execution_count": 0,
      "outputs": []
    },
    {
      "cell_type": "code",
      "metadata": {
        "id": "GppHKHs84S1Y",
        "colab_type": "code",
        "outputId": "6bd1ca09-be2d-4f12-da7d-a23914d6140f",
        "colab": {
          "base_uri": "https://localhost:8080/",
          "height": 193
        }
      },
      "source": [
        "x = np.random.randn(5,5)\n",
        "mat = x.T.dot(x)\n",
        "inv(mat)"
      ],
      "execution_count": 0,
      "outputs": [
        {
          "output_type": "execute_result",
          "data": {
            "text/plain": [
              "array([[ 93.35833489, -65.99646429, 132.46731334, -21.22628607,\n",
              "        -46.58928547],\n",
              "       [-65.99646429,  48.54397544, -95.50120844,  16.25398124,\n",
              "         33.17462111],\n",
              "       [132.46731334, -95.50120844, 190.68594011, -31.48443604,\n",
              "        -66.30177332],\n",
              "       [-21.22628607,  16.25398124, -31.48443604,   6.12622858,\n",
              "         10.62462942],\n",
              "       [-46.58928547,  33.17462111, -66.30177332,  10.62462942,\n",
              "         23.41827973]])"
            ]
          },
          "metadata": {
            "tags": []
          },
          "execution_count": 112
        }
      ]
    },
    {
      "cell_type": "code",
      "metadata": {
        "id": "87XoQGqx46Iq",
        "colab_type": "code",
        "outputId": "2236cb83-6ef2-46b0-cabe-152bfa6ab5c7",
        "colab": {
          "base_uri": "https://localhost:8080/",
          "height": 193
        }
      },
      "source": [
        "mat.dot(inv(mat))"
      ],
      "execution_count": 0,
      "outputs": [
        {
          "output_type": "execute_result",
          "data": {
            "text/plain": [
              "array([[ 1.00000000e+00,  9.08120766e-16, -1.77983298e-14,\n",
              "         4.90918553e-15,  3.55681113e-14],\n",
              "       [ 4.77012419e-14,  1.00000000e+00,  1.02083916e-14,\n",
              "        -4.00792522e-15, -1.13294019e-14],\n",
              "       [ 2.29539187e-14,  9.36811719e-15,  1.00000000e+00,\n",
              "         4.14338566e-15, -1.04435634e-14],\n",
              "       [ 1.51010623e-14,  5.03703500e-15,  1.55682052e-14,\n",
              "         1.00000000e+00, -1.69205806e-14],\n",
              "       [ 2.84555315e-14,  8.10113318e-16,  2.60201578e-14,\n",
              "         5.49511688e-15,  1.00000000e+00]])"
            ]
          },
          "metadata": {
            "tags": []
          },
          "execution_count": 113
        }
      ]
    },
    {
      "cell_type": "markdown",
      "metadata": {
        "id": "AnKcetbT4bRo",
        "colab_type": "text"
      },
      "source": [
        "Diagonal, Tres "
      ]
    }
  ]
}